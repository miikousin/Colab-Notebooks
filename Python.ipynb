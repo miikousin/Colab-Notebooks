{
  "nbformat": 4,
  "nbformat_minor": 0,
  "metadata": {
    "colab": {
      "provenance": [],
      "authorship_tag": "ABX9TyOTbjCDmCxDq6L/Dzlqmv+x",
      "include_colab_link": true
    },
    "kernelspec": {
      "name": "python3",
      "display_name": "Python 3"
    },
    "language_info": {
      "name": "python"
    }
  },
  "cells": [
    {
      "cell_type": "markdown",
      "metadata": {
        "id": "view-in-github",
        "colab_type": "text"
      },
      "source": [
        "<a href=\"https://colab.research.google.com/github/miikousin/Colab-Notebooks/blob/main/Python.ipynb\" target=\"_parent\"><img src=\"https://colab.research.google.com/assets/colab-badge.svg\" alt=\"Open In Colab\"/></a>"
      ]
    },
    {
      "cell_type": "code",
      "execution_count": null,
      "metadata": {
        "colab": {
          "base_uri": "https://localhost:8080/"
        },
        "id": "WzIyJRdCBNRs",
        "outputId": "e6d15fb0-b5aa-43fe-e323-edc8ef61d287"
      },
      "outputs": [
        {
          "output_type": "execute_result",
          "data": {
            "text/plain": [
              "4"
            ]
          },
          "metadata": {},
          "execution_count": 3
        }
      ],
      "source": [
        "1+1\n",
        "1+2\n",
        "1+3"
      ]
    },
    {
      "cell_type": "code",
      "source": [
        "2+3"
      ],
      "metadata": {
        "colab": {
          "base_uri": "https://localhost:8080/"
        },
        "id": "TZxHeDLICIIB",
        "outputId": "6223c3c1-09b2-4895-950a-c3deee3704ba"
      },
      "execution_count": null,
      "outputs": [
        {
          "output_type": "execute_result",
          "data": {
            "text/plain": [
              "5"
            ]
          },
          "metadata": {},
          "execution_count": 4
        }
      ]
    },
    {
      "cell_type": "code",
      "source": [
        "a = 5\n",
        "a"
      ],
      "metadata": {
        "colab": {
          "base_uri": "https://localhost:8080/"
        },
        "id": "lYfViDhoEmU5",
        "outputId": "282c53ad-f0d3-4749-d0d7-1154bb31e3e2"
      },
      "execution_count": null,
      "outputs": [
        {
          "output_type": "execute_result",
          "data": {
            "text/plain": [
              "5"
            ]
          },
          "metadata": {},
          "execution_count": 7
        }
      ]
    },
    {
      "cell_type": "markdown",
      "source": [],
      "metadata": {
        "id": "fc8BBBauCRDl"
      }
    },
    {
      "cell_type": "code",
      "source": [
        "1+1"
      ],
      "metadata": {
        "id": "lPLOsTrrDFuc",
        "colab": {
          "base_uri": "https://localhost:8080/"
        },
        "outputId": "d3479510-3ca3-497b-a488-60061f71500d"
      },
      "execution_count": null,
      "outputs": [
        {
          "output_type": "execute_result",
          "data": {
            "text/plain": [
              "2"
            ]
          },
          "metadata": {},
          "execution_count": 5
        }
      ]
    },
    {
      "cell_type": "code",
      "source": [
        "a = 4\n",
        "b = 3\n",
        "print(a)\n",
        "print(b)"
      ],
      "metadata": {
        "colab": {
          "base_uri": "https://localhost:8080/"
        },
        "id": "AnenHW3eFdtH",
        "outputId": "23f51302-df77-4f3a-9227-05d9e5e18b8d"
      },
      "execution_count": null,
      "outputs": [
        {
          "output_type": "stream",
          "name": "stdout",
          "text": [
            "4\n",
            "3\n"
          ]
        }
      ]
    },
    {
      "cell_type": "code",
      "source": [
        "a = 3\n",
        "b = -6\n",
        "plus = a + b\n",
        "print(plus)"
      ],
      "metadata": {
        "colab": {
          "base_uri": "https://localhost:8080/"
        },
        "id": "2hTUjDbVGZEb",
        "outputId": "743be4dc-ae02-45e1-bab2-98090d34e70e"
      },
      "execution_count": null,
      "outputs": [
        {
          "output_type": "stream",
          "name": "stdout",
          "text": [
            "-3\n"
          ]
        }
      ]
    },
    {
      "cell_type": "code",
      "source": [
        "print(plus)"
      ],
      "metadata": {
        "colab": {
          "base_uri": "https://localhost:8080/"
        },
        "id": "DcLzA7vqGmUT",
        "outputId": "ee839017-d813-43b7-f1c8-001d8507762f"
      },
      "execution_count": null,
      "outputs": [
        {
          "output_type": "stream",
          "name": "stdout",
          "text": [
            "-3\n"
          ]
        }
      ]
    },
    {
      "cell_type": "code",
      "source": [
        "minus = a - b\n",
        "multiply = a * b\n",
        "divide = a / b\n",
        "print(plus, minus, multiply, divide)"
      ],
      "metadata": {
        "colab": {
          "base_uri": "https://localhost:8080/"
        },
        "id": "hi0NQt2fGte7",
        "outputId": "e22d28b8-e727-4722-d7ae-41c75930c7e5"
      },
      "execution_count": null,
      "outputs": [
        {
          "output_type": "stream",
          "name": "stdout",
          "text": [
            "-3 9 -18 -0.5\n"
          ]
        }
      ]
    },
    {
      "cell_type": "code",
      "source": [
        "print(\"Python\")"
      ],
      "metadata": {
        "colab": {
          "base_uri": "https://localhost:8080/"
        },
        "id": "c_CO51bOHQHq",
        "outputId": "fb86da9f-a4b2-4e06-94c1-e89eae55aabb"
      },
      "execution_count": null,
      "outputs": [
        {
          "output_type": "stream",
          "name": "stdout",
          "text": [
            "Python\n"
          ]
        }
      ]
    },
    {
      "cell_type": "code",
      "source": [
        "a = \"Python\"\n",
        "print(a[1])"
      ],
      "metadata": {
        "colab": {
          "base_uri": "https://localhost:8080/"
        },
        "id": "T1IkjEDOHxzA",
        "outputId": "f7b26a65-5b1a-4e52-ca4f-a05d8c34c123"
      },
      "execution_count": null,
      "outputs": [
        {
          "output_type": "stream",
          "name": "stdout",
          "text": [
            "y\n"
          ]
        }
      ]
    },
    {
      "cell_type": "code",
      "source": [
        "print(a[1:3])"
      ],
      "metadata": {
        "colab": {
          "base_uri": "https://localhost:8080/"
        },
        "id": "OQfC8WbEIWPy",
        "outputId": "365c6101-9aa8-4b35-b165-0b97a7ed4431"
      },
      "execution_count": null,
      "outputs": [
        {
          "output_type": "stream",
          "name": "stdout",
          "text": [
            "yt\n"
          ]
        }
      ]
    },
    {
      "cell_type": "code",
      "source": [
        "print(a[0:3])"
      ],
      "metadata": {
        "colab": {
          "base_uri": "https://localhost:8080/"
        },
        "id": "srpIZJ2eIsIV",
        "outputId": "553488e3-cfe9-422f-9c07-0fa756dbc6de"
      },
      "execution_count": null,
      "outputs": [
        {
          "output_type": "stream",
          "name": "stdout",
          "text": [
            "Pyt\n"
          ]
        }
      ]
    },
    {
      "cell_type": "code",
      "source": [
        "print(a[0:4])"
      ],
      "metadata": {
        "colab": {
          "base_uri": "https://localhost:8080/"
        },
        "id": "nocj5GbjI0zi",
        "outputId": "4e527744-9a37-4473-ffad-e11dd7cfb920"
      },
      "execution_count": null,
      "outputs": [
        {
          "output_type": "stream",
          "name": "stdout",
          "text": [
            "Pyth\n"
          ]
        }
      ]
    },
    {
      "cell_type": "code",
      "source": [
        "print(a[1:4])"
      ],
      "metadata": {
        "colab": {
          "base_uri": "https://localhost:8080/"
        },
        "id": "5mKkBn1aI9wI",
        "outputId": "97c41faf-04e8-4126-9e90-5e76ce198dcc"
      },
      "execution_count": null,
      "outputs": [
        {
          "output_type": "stream",
          "name": "stdout",
          "text": [
            "yth\n"
          ]
        }
      ]
    },
    {
      "cell_type": "code",
      "source": [
        "print(a[100])"
      ],
      "metadata": {
        "colab": {
          "base_uri": "https://localhost:8080/",
          "height": 145
        },
        "id": "x-51pfQUJArB",
        "outputId": "5b7f1ff0-ef50-4124-a366-5acd018a3d54"
      },
      "execution_count": null,
      "outputs": [
        {
          "output_type": "error",
          "ename": "IndexError",
          "evalue": "string index out of range",
          "traceback": [
            "\u001b[0;31m---------------------------------------------------------------------------\u001b[0m",
            "\u001b[0;31mIndexError\u001b[0m                                Traceback (most recent call last)",
            "\u001b[0;32m<ipython-input-21-7227ecbc515c>\u001b[0m in \u001b[0;36m<cell line: 1>\u001b[0;34m()\u001b[0m\n\u001b[0;32m----> 1\u001b[0;31m \u001b[0mprint\u001b[0m\u001b[0;34m(\u001b[0m\u001b[0ma\u001b[0m\u001b[0;34m[\u001b[0m\u001b[0;36m100\u001b[0m\u001b[0;34m]\u001b[0m\u001b[0;34m)\u001b[0m\u001b[0;34m\u001b[0m\u001b[0;34m\u001b[0m\u001b[0m\n\u001b[0m",
            "\u001b[0;31mIndexError\u001b[0m: string index out of range"
          ]
        }
      ]
    },
    {
      "cell_type": "code",
      "source": [
        "s = \"kjasjvnjdfnioan\"\n",
        "print(a[-1])"
      ],
      "metadata": {
        "colab": {
          "base_uri": "https://localhost:8080/"
        },
        "id": "0lfh5AVvJhTn",
        "outputId": "30e1b83e-7d87-44fd-86aa-b31f4019dddb"
      },
      "execution_count": null,
      "outputs": [
        {
          "output_type": "stream",
          "name": "stdout",
          "text": [
            "n\n"
          ]
        }
      ]
    },
    {
      "cell_type": "code",
      "source": [
        "len(a)"
      ],
      "metadata": {
        "colab": {
          "base_uri": "https://localhost:8080/"
        },
        "id": "EE4a8q4yKczy",
        "outputId": "ae4e7947-3cca-4a62-d8f2-f521d837a325"
      },
      "execution_count": null,
      "outputs": [
        {
          "output_type": "execute_result",
          "data": {
            "text/plain": [
              "6"
            ]
          },
          "metadata": {},
          "execution_count": 23
        }
      ]
    },
    {
      "cell_type": "code",
      "source": [
        "len(s)"
      ],
      "metadata": {
        "colab": {
          "base_uri": "https://localhost:8080/"
        },
        "id": "2LbKP0ZSKpdj",
        "outputId": "d836749e-016c-4aae-ebee-6d602fd78f6c"
      },
      "execution_count": null,
      "outputs": [
        {
          "output_type": "execute_result",
          "data": {
            "text/plain": [
              "15"
            ]
          },
          "metadata": {},
          "execution_count": 24
        }
      ]
    },
    {
      "cell_type": "code",
      "source": [
        "print(\"=\" )"
      ],
      "metadata": {
        "colab": {
          "base_uri": "https://localhost:8080/"
        },
        "id": "TWJUQ74qKroX",
        "outputId": "7e9a9b13-818b-48a2-d6c8-996c8b5ee971"
      },
      "execution_count": null,
      "outputs": [
        {
          "output_type": "stream",
          "name": "stdout",
          "text": [
            "=\n"
          ]
        }
      ]
    },
    {
      "cell_type": "code",
      "source": [
        "print(\"=\" * 10 + \"結果\" + \"=\" * 10)"
      ],
      "metadata": {
        "colab": {
          "base_uri": "https://localhost:8080/"
        },
        "id": "4rLRzsfILMLi",
        "outputId": "bd6b1673-fb9a-43e8-b1e7-86a5f6bd055f"
      },
      "execution_count": null,
      "outputs": [
        {
          "output_type": "stream",
          "name": "stdout",
          "text": [
            "==========結果==========\n"
          ]
        }
      ]
    },
    {
      "cell_type": "code",
      "source": [
        "s = \"sinkansen\"\n",
        "s.index(\"s\")\n"
      ],
      "metadata": {
        "colab": {
          "base_uri": "https://localhost:8080/"
        },
        "id": "0hmwHihlLYTx",
        "outputId": "97f87c30-d6c9-4686-c416-bb98058f6342"
      },
      "execution_count": null,
      "outputs": [
        {
          "output_type": "execute_result",
          "data": {
            "text/plain": [
              "0"
            ]
          },
          "metadata": {},
          "execution_count": 28
        }
      ]
    },
    {
      "cell_type": "code",
      "source": [
        "s.find(\"k\")"
      ],
      "metadata": {
        "colab": {
          "base_uri": "https://localhost:8080/"
        },
        "id": "cLItnTp9LyZo",
        "outputId": "32203647-7ece-4495-ef72-a81715eefd5b"
      },
      "execution_count": null,
      "outputs": [
        {
          "output_type": "execute_result",
          "data": {
            "text/plain": [
              "3"
            ]
          },
          "metadata": {},
          "execution_count": 30
        }
      ]
    },
    {
      "cell_type": "code",
      "source": [
        "s.replace(\"s\", \"S\")"
      ],
      "metadata": {
        "colab": {
          "base_uri": "https://localhost:8080/",
          "height": 36
        },
        "id": "83YlNEYmMKdX",
        "outputId": "e467edce-d60c-405b-d352-7b9d81b9222b"
      },
      "execution_count": null,
      "outputs": [
        {
          "output_type": "execute_result",
          "data": {
            "text/plain": [
              "'SinkanSen'"
            ],
            "application/vnd.google.colaboratory.intrinsic+json": {
              "type": "string"
            }
          },
          "metadata": {},
          "execution_count": 31
        }
      ]
    },
    {
      "cell_type": "code",
      "source": [
        "a = 3\n",
        "a == 3"
      ],
      "metadata": {
        "id": "fBMOKMsUMr_x",
        "colab": {
          "base_uri": "https://localhost:8080/"
        },
        "outputId": "776f639e-0f8c-4453-d97e-5156b9206f81"
      },
      "execution_count": 32,
      "outputs": [
        {
          "output_type": "execute_result",
          "data": {
            "text/plain": [
              "True"
            ]
          },
          "metadata": {},
          "execution_count": 32
        }
      ]
    },
    {
      "cell_type": "code",
      "source": [
        "\"P\" in \"Python\""
      ],
      "metadata": {
        "colab": {
          "base_uri": "https://localhost:8080/"
        },
        "id": "99fB_a1iRADI",
        "outputId": "b5b25145-4e8b-4798-87f3-54d52998f290"
      },
      "execution_count": 1,
      "outputs": [
        {
          "output_type": "execute_result",
          "data": {
            "text/plain": [
              "True"
            ]
          },
          "metadata": {},
          "execution_count": 1
        }
      ]
    },
    {
      "cell_type": "code",
      "source": [
        "\"p\" in \"Python\""
      ],
      "metadata": {
        "colab": {
          "base_uri": "https://localhost:8080/"
        },
        "id": "b70GCvUWLJdI",
        "outputId": "fc9c18f1-bc95-45f6-f1c9-eaaa57fdcac6"
      },
      "execution_count": 2,
      "outputs": [
        {
          "output_type": "execute_result",
          "data": {
            "text/plain": [
              "False"
            ]
          },
          "metadata": {},
          "execution_count": 2
        }
      ]
    },
    {
      "cell_type": "code",
      "source": [
        "\"p\" not in \"Python\""
      ],
      "metadata": {
        "colab": {
          "base_uri": "https://localhost:8080/"
        },
        "id": "WxueS5PfLMVZ",
        "outputId": "abad660d-ec80-4231-cb7f-c19bdffd71df"
      },
      "execution_count": 3,
      "outputs": [
        {
          "output_type": "execute_result",
          "data": {
            "text/plain": [
              "True"
            ]
          },
          "metadata": {},
          "execution_count": 3
        }
      ]
    },
    {
      "cell_type": "code",
      "source": [
        "a = 3\n",
        "2 < a <= 10"
      ],
      "metadata": {
        "colab": {
          "base_uri": "https://localhost:8080/"
        },
        "id": "niDEVZHoLZoU",
        "outputId": "d8348f3a-e45a-4ca5-be29-f7101f58eb48"
      },
      "execution_count": 4,
      "outputs": [
        {
          "output_type": "execute_result",
          "data": {
            "text/plain": [
              "True"
            ]
          },
          "metadata": {},
          "execution_count": 4
        }
      ]
    },
    {
      "cell_type": "code",
      "source": [
        "type(a)"
      ],
      "metadata": {
        "colab": {
          "base_uri": "https://localhost:8080/"
        },
        "id": "GjYo7YbmLuIf",
        "outputId": "bb043ae9-6115-4082-b402-fe03fcd3cdc4"
      },
      "execution_count": 5,
      "outputs": [
        {
          "output_type": "execute_result",
          "data": {
            "text/plain": [
              "int"
            ]
          },
          "metadata": {},
          "execution_count": 5
        }
      ]
    },
    {
      "cell_type": "code",
      "source": [
        "a = '1,980円'\n",
        "print(a)"
      ],
      "metadata": {
        "colab": {
          "base_uri": "https://localhost:8080/"
        },
        "id": "X-fdMEltMLZy",
        "outputId": "e699a727-b672-44b0-c02f-3eafdfbe8db4"
      },
      "execution_count": 6,
      "outputs": [
        {
          "output_type": "stream",
          "name": "stdout",
          "text": [
            "1,980円\n"
          ]
        }
      ]
    },
    {
      "cell_type": "code",
      "source": [
        "a.replace(\",\", \"\").replace(\"円\", \"\")"
      ],
      "metadata": {
        "colab": {
          "base_uri": "https://localhost:8080/",
          "height": 36
        },
        "id": "_Ky3MSXBNhDa",
        "outputId": "f7bfb791-2d95-4c7e-904f-c6c7d4d4b34e"
      },
      "execution_count": 9,
      "outputs": [
        {
          "output_type": "execute_result",
          "data": {
            "text/plain": [
              "'1980'"
            ],
            "application/vnd.google.colaboratory.intrinsic+json": {
              "type": "string"
            }
          },
          "metadata": {},
          "execution_count": 9
        }
      ]
    },
    {
      "cell_type": "code",
      "source": [
        "price = \"1,980円\"\n",
        "print(price)"
      ],
      "metadata": {
        "colab": {
          "base_uri": "https://localhost:8080/"
        },
        "id": "90msjHV5PsSK",
        "outputId": "b49aaef7-e01b-493c-ba28-e1a76269c88b"
      },
      "execution_count": 17,
      "outputs": [
        {
          "output_type": "stream",
          "name": "stdout",
          "text": [
            "1,980円\n"
          ]
        }
      ]
    },
    {
      "cell_type": "code",
      "source": [
        "price = int(price.replace(\",\", \"\").replace(\"円\", \"\"))\n",
        "print(price, type(price))"
      ],
      "metadata": {
        "colab": {
          "base_uri": "https://localhost:8080/"
        },
        "id": "XT3tZfWSQFlL",
        "outputId": "2356bdff-1f7a-4673-99fa-c7b3a01ce04c"
      },
      "execution_count": 18,
      "outputs": [
        {
          "output_type": "stream",
          "name": "stdout",
          "text": [
            "1980 <class 'int'>\n"
          ]
        }
      ]
    },
    {
      "cell_type": "code",
      "source": [
        "x = None\n",
        "print(x)"
      ],
      "metadata": {
        "colab": {
          "base_uri": "https://localhost:8080/"
        },
        "id": "6zHH6mUqQpUp",
        "outputId": "5a7e72eb-f700-4a92-e7c8-3bbab634b4de"
      },
      "execution_count": 19,
      "outputs": [
        {
          "output_type": "stream",
          "name": "stdout",
          "text": [
            "None\n"
          ]
        }
      ]
    },
    {
      "cell_type": "code",
      "source": [
        "print(type(x))"
      ],
      "metadata": {
        "colab": {
          "base_uri": "https://localhost:8080/"
        },
        "id": "Tm4Ns4ooQ7VV",
        "outputId": "8ebf6201-6efd-4355-af13-2a3116e93563"
      },
      "execution_count": 21,
      "outputs": [
        {
          "output_type": "stream",
          "name": "stdout",
          "text": [
            "<class 'NoneType'>\n"
          ]
        }
      ]
    },
    {
      "cell_type": "code",
      "source": [
        "x = 4\n",
        "if x < 0:\n",
        "  print(\"0より小さいです\")\n",
        "elif x > 0:\n",
        "  print(\"0より大きいです\")"
      ],
      "metadata": {
        "colab": {
          "base_uri": "https://localhost:8080/"
        },
        "id": "HCNFOcETQ-q-",
        "outputId": "b46593a7-dfe6-4091-d1d6-bc192ec44d47"
      },
      "execution_count": 27,
      "outputs": [
        {
          "output_type": "stream",
          "name": "stdout",
          "text": [
            "0より大きいです\n"
          ]
        }
      ]
    },
    {
      "cell_type": "code",
      "source": [
        "x = 9\n",
        "if x % 15 == 0:\n",
        "  print(\"FizzBuzz\")\n",
        "elif x % 3 == 0:\n",
        "  print(\"Fizz\")\n",
        "elif x % 5 == 0:\n",
        "  print(\"Buzz\")\n",
        "else:\n",
        "  print(x)"
      ],
      "metadata": {
        "colab": {
          "base_uri": "https://localhost:8080/"
        },
        "id": "VkUHwBJlR-I3",
        "outputId": "af78dff2-cd2a-4c4b-beba-6ac331df726d"
      },
      "execution_count": 35,
      "outputs": [
        {
          "output_type": "stream",
          "name": "stdout",
          "text": [
            "Fizz\n"
          ]
        }
      ]
    },
    {
      "cell_type": "code",
      "source": [
        "9"
      ],
      "metadata": {
        "colab": {
          "base_uri": "https://localhost:8080/"
        },
        "id": "13znfbjMUFlR",
        "outputId": "be829700-b566-4e1d-8b12-92e0d220a4b3"
      },
      "execution_count": 34,
      "outputs": [
        {
          "output_type": "execute_result",
          "data": {
            "text/plain": [
              "9"
            ]
          },
          "metadata": {},
          "execution_count": 34
        }
      ]
    },
    {
      "cell_type": "code",
      "source": [
        "a = 1234\n",
        "print(a)"
      ],
      "metadata": {
        "colab": {
          "base_uri": "https://localhost:8080/"
        },
        "id": "tF8qXkcmUoUQ",
        "outputId": "d490ba89-48c5-4961-caa8-fdafb0b9cf29"
      },
      "execution_count": 37,
      "outputs": [
        {
          "output_type": "stream",
          "name": "stdout",
          "text": [
            "1234\n"
          ]
        }
      ]
    },
    {
      "cell_type": "code",
      "source": [
        "for i in range(10):\n",
        "    print(i)"
      ],
      "metadata": {
        "colab": {
          "base_uri": "https://localhost:8080/"
        },
        "id": "0QRBRDUOVycC",
        "outputId": "9225f04f-8472-454c-b405-615ee5692148"
      },
      "execution_count": 39,
      "outputs": [
        {
          "output_type": "stream",
          "name": "stdout",
          "text": [
            "0\n",
            "1\n",
            "2\n",
            "3\n",
            "4\n",
            "5\n",
            "6\n",
            "7\n",
            "8\n",
            "9\n"
          ]
        }
      ]
    },
    {
      "cell_type": "code",
      "source": [
        "for i in range(1, 11):\n",
        "    print(i)"
      ],
      "metadata": {
        "colab": {
          "base_uri": "https://localhost:8080/"
        },
        "id": "fgzXya_8WsEU",
        "outputId": "d7cb5eb0-4566-42ed-c57f-e3749982ada9"
      },
      "execution_count": 40,
      "outputs": [
        {
          "output_type": "stream",
          "name": "stdout",
          "text": [
            "1\n",
            "2\n",
            "3\n",
            "4\n",
            "5\n",
            "6\n",
            "7\n",
            "8\n",
            "9\n",
            "10\n"
          ]
        }
      ]
    },
    {
      "cell_type": "code",
      "source": [
        "sinkansen = \"kagayaki\"\n",
        "for i in sinkansen:\n",
        "  print(i)"
      ],
      "metadata": {
        "colab": {
          "base_uri": "https://localhost:8080/"
        },
        "id": "IEU6a51aXEHh",
        "outputId": "5e737839-d7a5-4f99-c53f-0bb4d1b831d4"
      },
      "execution_count": 41,
      "outputs": [
        {
          "output_type": "stream",
          "name": "stdout",
          "text": [
            "k\n",
            "a\n",
            "g\n",
            "a\n",
            "y\n",
            "a\n",
            "k\n",
            "i\n"
          ]
        }
      ]
    },
    {
      "cell_type": "code",
      "source": [
        "i = 0\n",
        "while i < 10:\n",
        "  i += 1\n",
        "  print(i)\n",
        "print(\"=\" * 20)\n",
        "print(i)"
      ],
      "metadata": {
        "colab": {
          "base_uri": "https://localhost:8080/"
        },
        "id": "qr_sw0eqX8SR",
        "outputId": "150eb2fc-fb55-4372-c74a-9df8f1bc4df5"
      },
      "execution_count": 43,
      "outputs": [
        {
          "output_type": "stream",
          "name": "stdout",
          "text": [
            "1\n",
            "2\n",
            "3\n",
            "4\n",
            "5\n",
            "6\n",
            "7\n",
            "8\n",
            "9\n",
            "10\n",
            "====================\n",
            "10\n"
          ]
        }
      ]
    },
    {
      "cell_type": "code",
      "source": [
        "num = [1, 2, 3, 4, 5]\n",
        "print(num, type(num))"
      ],
      "metadata": {
        "colab": {
          "base_uri": "https://localhost:8080/"
        },
        "id": "1EhxGs2hZWDQ",
        "outputId": "b6963f66-1a1c-443d-da24-31155d40a27f"
      },
      "execution_count": 44,
      "outputs": [
        {
          "output_type": "stream",
          "name": "stdout",
          "text": [
            "[1, 2, 3, 4, 5] <class 'list'>\n"
          ]
        }
      ]
    },
    {
      "cell_type": "code",
      "source": [
        "train = [\"sinkansen\", \"densya\", \"kuruma\"]\n",
        "print(train)"
      ],
      "metadata": {
        "colab": {
          "base_uri": "https://localhost:8080/"
        },
        "id": "0V3Do8uEcTqO",
        "outputId": "994dbd1d-7258-4c35-ed86-5868a3e24865"
      },
      "execution_count": 46,
      "outputs": [
        {
          "output_type": "stream",
          "name": "stdout",
          "text": [
            "['sinkansen', 'densya', 'kuruma']\n"
          ]
        }
      ]
    },
    {
      "cell_type": "code",
      "source": [
        "print(type(train))"
      ],
      "metadata": {
        "colab": {
          "base_uri": "https://localhost:8080/"
        },
        "id": "Bwy0xSURckJs",
        "outputId": "907a9643-f68f-4133-93dd-a271d27eceba"
      },
      "execution_count": 47,
      "outputs": [
        {
          "output_type": "stream",
          "name": "stdout",
          "text": [
            "<class 'list'>\n"
          ]
        }
      ]
    },
    {
      "cell_type": "code",
      "source": [
        "print(train[2])"
      ],
      "metadata": {
        "colab": {
          "base_uri": "https://localhost:8080/"
        },
        "id": "EhiZqL8YcuSx",
        "outputId": "5db63e9d-d55b-4be6-cbcb-8105e0c0d380"
      },
      "execution_count": 48,
      "outputs": [
        {
          "output_type": "stream",
          "name": "stdout",
          "text": [
            "kuruma\n"
          ]
        }
      ]
    },
    {
      "cell_type": "code",
      "source": [
        "print(train[0:3])"
      ],
      "metadata": {
        "colab": {
          "base_uri": "https://localhost:8080/"
        },
        "id": "DPIROcAHcxgP",
        "outputId": "d795df45-5fb9-40a0-e646-83f8034511ed"
      },
      "execution_count": 49,
      "outputs": [
        {
          "output_type": "stream",
          "name": "stdout",
          "text": [
            "['sinkansen', 'densya', 'kuruma']\n"
          ]
        }
      ]
    },
    {
      "cell_type": "code",
      "source": [
        "print(train[0:2])"
      ],
      "metadata": {
        "colab": {
          "base_uri": "https://localhost:8080/"
        },
        "id": "1gBcWfr_du5q",
        "outputId": "310ec49b-e982-42a3-e432-daaa2c6e304a"
      },
      "execution_count": 50,
      "outputs": [
        {
          "output_type": "stream",
          "name": "stdout",
          "text": [
            "['sinkansen', 'densya']\n"
          ]
        }
      ]
    },
    {
      "cell_type": "code",
      "source": [
        "for i, v in enumerate(train):\n",
        "  print(i, v)"
      ],
      "metadata": {
        "colab": {
          "base_uri": "https://localhost:8080/"
        },
        "id": "ZSFXyDY6d1hy",
        "outputId": "7bfa0967-7101-4eb9-93c8-e70947b8c07f"
      },
      "execution_count": 52,
      "outputs": [
        {
          "output_type": "stream",
          "name": "stdout",
          "text": [
            "0 sinkansen\n",
            "1 densya\n",
            "2 kuruma\n"
          ]
        }
      ]
    },
    {
      "cell_type": "code",
      "source": [
        "train[2] = \"car\"\n",
        "print(train)"
      ],
      "metadata": {
        "colab": {
          "base_uri": "https://localhost:8080/"
        },
        "id": "FmpJ0Q9mfVyr",
        "outputId": "00566409-f43c-4768-a1b2-48e4fbd1f58e"
      },
      "execution_count": 53,
      "outputs": [
        {
          "output_type": "stream",
          "name": "stdout",
          "text": [
            "['sinkansen', 'densya', 'car']\n"
          ]
        }
      ]
    },
    {
      "cell_type": "code",
      "source": [
        "num = [0]\n",
        "print(num * 10)"
      ],
      "metadata": {
        "colab": {
          "base_uri": "https://localhost:8080/"
        },
        "id": "zDkRv6CdfeJj",
        "outputId": "58e0d2d2-ffb1-428d-d895-6b7c32a9bce4"
      },
      "execution_count": 1,
      "outputs": [
        {
          "output_type": "stream",
          "name": "stdout",
          "text": [
            "[0, 0, 0, 0, 0, 0, 0, 0, 0, 0]\n"
          ]
        }
      ]
    },
    {
      "cell_type": "code",
      "source": [
        "num = [1, 2, 3]\n",
        "num.append(\"k\")\n",
        "print(num)"
      ],
      "metadata": {
        "colab": {
          "base_uri": "https://localhost:8080/"
        },
        "id": "hbmH007QBzcG",
        "outputId": "910d26aa-6010-4152-e430-b4f851a27c10"
      },
      "execution_count": 6,
      "outputs": [
        {
          "output_type": "stream",
          "name": "stdout",
          "text": [
            "[1, 2, 3, 'k']\n"
          ]
        }
      ]
    },
    {
      "cell_type": "code",
      "source": [
        "num = []\n",
        "for i in range(10):\n",
        "  num.append(i * 3)\n",
        "  print(num)"
      ],
      "metadata": {
        "colab": {
          "base_uri": "https://localhost:8080/"
        },
        "id": "gWqwGFQ1CgfA",
        "outputId": "344e00be-e336-4733-97b5-4f0993f1a09a"
      },
      "execution_count": 7,
      "outputs": [
        {
          "output_type": "stream",
          "name": "stdout",
          "text": [
            "[0]\n",
            "[0, 3]\n",
            "[0, 3, 6]\n",
            "[0, 3, 6, 9]\n",
            "[0, 3, 6, 9, 12]\n",
            "[0, 3, 6, 9, 12, 15]\n",
            "[0, 3, 6, 9, 12, 15, 18]\n",
            "[0, 3, 6, 9, 12, 15, 18, 21]\n",
            "[0, 3, 6, 9, 12, 15, 18, 21, 24]\n",
            "[0, 3, 6, 9, 12, 15, 18, 21, 24, 27]\n"
          ]
        }
      ]
    },
    {
      "cell_type": "code",
      "source": [
        "num1 = [1, 2, 3]\n",
        "num2 = [2, 4, 6]\n",
        "num1.extend(num2)\n",
        "print(num1, num2)"
      ],
      "metadata": {
        "colab": {
          "base_uri": "https://localhost:8080/"
        },
        "id": "ffmuHwyzDGIF",
        "outputId": "a6be57ba-695c-4799-9d87-5ab13da711ec"
      },
      "execution_count": 8,
      "outputs": [
        {
          "output_type": "stream",
          "name": "stdout",
          "text": [
            "[1, 2, 3, 2, 4, 6] [2, 4, 6]\n"
          ]
        }
      ]
    },
    {
      "cell_type": "code",
      "source": [
        "\n",
        "[for i in range(5)]\n",
        "\n"
      ],
      "metadata": {
        "colab": {
          "base_uri": "https://localhost:8080/"
        },
        "id": "_ucreqvuDuls",
        "outputId": "e0afdf9d-5193-421d-b6dc-6093c324ab3d"
      },
      "execution_count": 9,
      "outputs": [
        {
          "output_type": "stream",
          "name": "stdout",
          "text": [
            "[0]\n",
            "[0, 1]\n",
            "[0, 1, 2]\n",
            "[0, 1, 2, 3]\n",
            "[0, 1, 2, 3, 4]\n"
          ]
        }
      ]
    },
    {
      "cell_type": "code",
      "source": [
        "num = [1, 39, 10, 100, 66, 4, 15]\n",
        "num1 = [ i for i in num if 10 <= i < 30 ]\n",
        "print(num1)\n",
        "\n"
      ],
      "metadata": {
        "colab": {
          "base_uri": "https://localhost:8080/"
        },
        "id": "6MbkPJQiFf8h",
        "outputId": "93d71964-98df-4ebd-9208-5ef90d66c690"
      },
      "execution_count": 11,
      "outputs": [
        {
          "output_type": "stream",
          "name": "stdout",
          "text": [
            "[10, 15]\n"
          ]
        }
      ]
    },
    {
      "cell_type": "code",
      "source": [
        "price = {\"かがやき\": 1000, \"こまち\": 1200}\n",
        "print(price)"
      ],
      "metadata": {
        "colab": {
          "base_uri": "https://localhost:8080/"
        },
        "id": "gid4rtajHpwd",
        "outputId": "288f59cf-4d95-4849-dbf1-23247d57d79c"
      },
      "execution_count": 12,
      "outputs": [
        {
          "output_type": "stream",
          "name": "stdout",
          "text": [
            "{'かがやき': 1000, 'こまち': 1200}\n"
          ]
        }
      ]
    },
    {
      "cell_type": "code",
      "source": [
        "price[\"かがやき\"] = 1300\n",
        "print(price)"
      ],
      "metadata": {
        "colab": {
          "base_uri": "https://localhost:8080/"
        },
        "id": "P9u3eGRnJudL",
        "outputId": "e3aec765-6924-491b-a08d-e37f9112326a"
      },
      "execution_count": 13,
      "outputs": [
        {
          "output_type": "stream",
          "name": "stdout",
          "text": [
            "{'かがやき': 1300, 'こまち': 1200}\n"
          ]
        }
      ]
    },
    {
      "cell_type": "code",
      "source": [
        "price[\"ノゾミ\"] = 1700\n",
        "print(price)"
      ],
      "metadata": {
        "colab": {
          "base_uri": "https://localhost:8080/"
        },
        "id": "vMLwwMZ2KSiH",
        "outputId": "6a86773c-5bf1-4059-d07e-57a5605ec764"
      },
      "execution_count": 14,
      "outputs": [
        {
          "output_type": "stream",
          "name": "stdout",
          "text": [
            "{'かがやき': 1300, 'こまち': 1200, 'ノゾミ': 1700}\n"
          ]
        }
      ]
    },
    {
      "cell_type": "code",
      "source": [
        "print(price.values())"
      ],
      "metadata": {
        "colab": {
          "base_uri": "https://localhost:8080/"
        },
        "id": "CHSNsvtMLfOa",
        "outputId": "f9630e97-30ad-4e1f-9215-0201217bf5dc"
      },
      "execution_count": 18,
      "outputs": [
        {
          "output_type": "stream",
          "name": "stdout",
          "text": [
            "dict_values([1300, 1200, 1700])\n"
          ]
        }
      ]
    },
    {
      "cell_type": "code",
      "source": [
        "for values in price.values():\n",
        "  print(values)"
      ],
      "metadata": {
        "colab": {
          "base_uri": "https://localhost:8080/"
        },
        "id": "-axodR5KLk_D",
        "outputId": "a89323b2-6525-4832-f268-244c168e9a51"
      },
      "execution_count": 19,
      "outputs": [
        {
          "output_type": "stream",
          "name": "stdout",
          "text": [
            "1300\n",
            "1200\n",
            "1700\n"
          ]
        }
      ]
    },
    {
      "cell_type": "code",
      "source": [
        "for key, value in price.items():\n",
        "  print(key, value)"
      ],
      "metadata": {
        "colab": {
          "base_uri": "https://localhost:8080/"
        },
        "id": "wJNKbgruMHlq",
        "outputId": "c7bbda96-e185-458a-c51a-5b3e2d7bf54d"
      },
      "execution_count": 20,
      "outputs": [
        {
          "output_type": "stream",
          "name": "stdout",
          "text": [
            "かがやき 1300\n",
            "こまち 1200\n",
            "ノゾミ 1700\n"
          ]
        }
      ]
    },
    {
      "cell_type": "code",
      "source": [
        "print(price.get(\"こまち\"))"
      ],
      "metadata": {
        "colab": {
          "base_uri": "https://localhost:8080/"
        },
        "id": "xcLXbvtwNQTo",
        "outputId": "624eac61-d8b8-4da4-a0e6-f2e9e100fb70"
      },
      "execution_count": 22,
      "outputs": [
        {
          "output_type": "stream",
          "name": "stdout",
          "text": [
            "1200\n"
          ]
        }
      ]
    },
    {
      "cell_type": "code",
      "source": [
        "num = [ 1, 5, 9, 10, 58]\n",
        "print(sum(num))"
      ],
      "metadata": {
        "colab": {
          "base_uri": "https://localhost:8080/"
        },
        "id": "wynlGWUPObFT",
        "outputId": "33b05c9a-da5e-4e51-8b8d-7cb7d1c3b3df"
      },
      "execution_count": 23,
      "outputs": [
        {
          "output_type": "stream",
          "name": "stdout",
          "text": [
            "83\n"
          ]
        }
      ]
    },
    {
      "cell_type": "code",
      "source": [
        "num = [3, 4, 6, 9, 10]\n",
        "print(sum(num) / len(num))"
      ],
      "metadata": {
        "colab": {
          "base_uri": "https://localhost:8080/"
        },
        "id": "nWExLioSQbMV",
        "outputId": "950bec3a-ee22-4dbf-df3c-83fd165b8533"
      },
      "execution_count": 25,
      "outputs": [
        {
          "output_type": "stream",
          "name": "stdout",
          "text": [
            "6.4\n"
          ]
        }
      ]
    },
    {
      "cell_type": "code",
      "source": [
        "def say_hello():\n",
        "  print('こんにちは')\n",
        "  print('さようなら')\n",
        "\n",
        "say_hello()"
      ],
      "metadata": {
        "colab": {
          "base_uri": "https://localhost:8080/"
        },
        "id": "IvgZqqkIQ7SP",
        "outputId": "fe277154-e7d7-4629-8444-a4c2827014e7"
      },
      "execution_count": 26,
      "outputs": [
        {
          "output_type": "stream",
          "name": "stdout",
          "text": [
            "こんにちは\n",
            "さようなら\n"
          ]
        }
      ]
    },
    {
      "cell_type": "code",
      "source": [
        "def calc_avg(num):\n",
        "  avg = sum(num) / len(num)\n",
        "  print(avg)\n",
        "\n",
        "num1 = [1, 2, 3, 4, 5]\n",
        "num2 = [12, 13, 14, 15, 17]\n",
        "\n",
        "calc_avg(num1)\n",
        "calc_avg(num2)"
      ],
      "metadata": {
        "colab": {
          "base_uri": "https://localhost:8080/"
        },
        "id": "8iDoZ467R0Jy",
        "outputId": "bab8a6c9-a4ed-43a2-a7d5-84e31c684083"
      },
      "execution_count": 29,
      "outputs": [
        {
          "output_type": "stream",
          "name": "stdout",
          "text": [
            "3.0\n",
            "14.2\n"
          ]
        }
      ]
    },
    {
      "cell_type": "code",
      "source": [
        "def fizzbuzz(x):\n",
        "  if x % 15 == 0:\n",
        "    result = \"FizzBuzz\"\n",
        "  elif x % 3 == 0:\n",
        "    result = \"Fizz\"\n",
        "  elif x % 5 == 0:\n",
        "    result = \"Buzz\"\n",
        "  else:\n",
        "    result = x\n",
        "    return result\n",
        "\n",
        "r = fizzbuzz(60)\n",
        "print(r)"
      ],
      "metadata": {
        "colab": {
          "base_uri": "https://localhost:8080/"
        },
        "id": "UnnqHRf4TBjD",
        "outputId": "fed25472-9529-488a-e858-0a14ea1c383c"
      },
      "execution_count": 43,
      "outputs": [
        {
          "output_type": "stream",
          "name": "stdout",
          "text": [
            "None\n"
          ]
        }
      ]
    },
    {
      "cell_type": "code",
      "source": [
        "class Student(object):\n",
        "  def say_hello(self, times):\n",
        "    print(\"こんにちは\"*times)\n",
        "\n",
        "s = Student()\n",
        "s.say_hello(4)"
      ],
      "metadata": {
        "colab": {
          "base_uri": "https://localhost:8080/"
        },
        "id": "5lMYwnx7VTGw",
        "outputId": "cb9d981b-1585-4802-93e1-56c80019edbf"
      },
      "execution_count": 6,
      "outputs": [
        {
          "output_type": "stream",
          "name": "stdout",
          "text": [
            "こんにちはこんにちはこんにちはこんにちは\n"
          ]
        }
      ]
    },
    {
      "cell_type": "code",
      "source": [
        "l = list()\n",
        "l.append(2)\n",
        "l.append(4)\n",
        "print(l)"
      ],
      "metadata": {
        "colab": {
          "base_uri": "https://localhost:8080/"
        },
        "id": "qFmFHMySxdWb",
        "outputId": "70c634c4-1f74-4c83-c70c-d6ce3d86d3cb"
      },
      "execution_count": 7,
      "outputs": [
        {
          "output_type": "stream",
          "name": "stdout",
          "text": [
            "[2, 4]\n"
          ]
        }
      ]
    },
    {
      "cell_type": "code",
      "source": [
        "class Train(object):\n",
        "  def __init__(self, name):\n",
        "    self.name = name\n",
        "  def price(self, name)"
      ],
      "metadata": {
        "id": "fGMm-6QfxlNk"
      },
      "execution_count": 8,
      "outputs": []
    },
    {
      "cell_type": "code",
      "source": [
        "t = Train()\n"
      ],
      "metadata": {
        "colab": {
          "base_uri": "https://localhost:8080/"
        },
        "id": "6mEINSe6zZAb",
        "outputId": "86474010-0f6f-4d67-c8d2-5cf2a4de6794"
      },
      "execution_count": 9,
      "outputs": [
        {
          "output_type": "stream",
          "name": "stdout",
          "text": [
            "新幹線\n"
          ]
        }
      ]
    },
    {
      "cell_type": "code",
      "source": [
        "import seaborn"
      ],
      "metadata": {
        "id": "R7Fob326zd6u"
      },
      "execution_count": 10,
      "outputs": []
    },
    {
      "cell_type": "code",
      "source": [],
      "metadata": {
        "id": "WoxDLi6B2Noy"
      },
      "execution_count": null,
      "outputs": []
    },
    {
      "cell_type": "code",
      "source": [],
      "metadata": {
        "id": "bYGKukMc9rWO"
      },
      "execution_count": null,
      "outputs": []
    }
  ]
}