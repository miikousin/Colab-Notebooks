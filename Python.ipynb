{
  "nbformat": 4,
  "nbformat_minor": 0,
  "metadata": {
    "colab": {
      "provenance": [],
      "include_colab_link": true
    },
    "kernelspec": {
      "name": "python3",
      "display_name": "Python 3"
    },
    "language_info": {
      "name": "python"
    }
  },
  "cells": [
    {
      "cell_type": "markdown",
      "metadata": {
        "id": "view-in-github",
        "colab_type": "text"
      },
      "source": [
        "<a href=\"https://colab.research.google.com/github/miikousin/Colab-Notebooks/blob/main/Python.ipynb\" target=\"_parent\"><img src=\"https://colab.research.google.com/assets/colab-badge.svg\" alt=\"Open In Colab\"/></a>"
      ]
    },
    {
      "cell_type": "code",
      "source": [
        "from bs4 import BeautifulSoup\n",
        "import requests\n"
      ],
      "metadata": {
        "id": "R6l5-EK7ktTa"
      },
      "execution_count": 13,
      "outputs": []
    },
    {
      "cell_type": "code",
      "source": [
        "url = 'https://qiita.com/'\n",
        "r = requests.get(url)"
      ],
      "metadata": {
        "id": "CEIpWagluXsO"
      },
      "execution_count": 27,
      "outputs": []
    },
    {
      "cell_type": "code",
      "source": [
        "soup = BeautifulSoup(r.text)"
      ],
      "metadata": {
        "id": "ZOsSvL-PvvKi"
      },
      "execution_count": 28,
      "outputs": []
    },
    {
      "cell_type": "code",
      "source": [
        "soup.find('li')"
      ],
      "metadata": {
        "colab": {
          "base_uri": "https://localhost:8080/"
        },
        "id": "eKMWUdouv18N",
        "outputId": "7d7945ae-54a8-46fb-ae88-becee0cd480e"
      },
      "execution_count": 29,
      "outputs": [
        {
          "output_type": "execute_result",
          "data": {
            "text/plain": [
              "<li><a aria-current=\"page\" class=\"style-1f7ewg\" href=\"/\">Trend</a></li>"
            ]
          },
          "metadata": {},
          "execution_count": 29
        }
      ]
    },
    {
      "cell_type": "code",
      "source": [
        "soup.find('li').text"
      ],
      "metadata": {
        "colab": {
          "base_uri": "https://localhost:8080/",
          "height": 36
        },
        "id": "eorvRLFCwLWm",
        "outputId": "47eb942d-bb52-4845-9ac2-eb1de0dd117f"
      },
      "execution_count": 30,
      "outputs": [
        {
          "output_type": "execute_result",
          "data": {
            "text/plain": [
              "'Trend'"
            ],
            "application/vnd.google.colaboratory.intrinsic+json": {
              "type": "string"
            }
          },
          "metadata": {},
          "execution_count": 30
        }
      ]
    },
    {
      "cell_type": "code",
      "source": [
        "soup.find_all(class_='st-footer_menuTitle')"
      ],
      "metadata": {
        "colab": {
          "base_uri": "https://localhost:8080/"
        },
        "id": "2PwzAew6wn6E",
        "outputId": "aa3b473a-98f7-4272-ab6d-c5ad03a6f3bc"
      },
      "execution_count": 32,
      "outputs": [
        {
          "output_type": "execute_result",
          "data": {
            "text/plain": [
              "[<dt class=\"st-footer_menuTitle\">Guide &amp; Help</dt>,\n",
              " <dt class=\"st-footer_menuTitle\">Contents</dt>,\n",
              " <dt class=\"st-footer_menuTitle\">SNS</dt>,\n",
              " <dt class=\"st-footer_menuTitle\">Our service</dt>,\n",
              " <dt class=\"st-footer_menuTitle\">Company</dt>]"
            ]
          },
          "metadata": {},
          "execution_count": 32
        }
      ]
    },
    {
      "cell_type": "code",
      "source": [
        "for footer in soup.find_all(class_=['st-footer_menuTitle', 'st-footer_menuLink']):\n",
        "  print(footer.text)"
      ],
      "metadata": {
        "colab": {
          "base_uri": "https://localhost:8080/"
        },
        "id": "4NdgBZ5_w3q7",
        "outputId": "5e88473a-e71a-45b7-d12f-3fe3ac2454b6"
      },
      "execution_count": 36,
      "outputs": [
        {
          "output_type": "stream",
          "name": "stdout",
          "text": [
            "Guide & Help\n",
            "About\n",
            "Terms\n",
            "Privacy\n",
            "Guideline\n",
            "Design Guideline\n",
            "Feedback\n",
            "Help\n",
            "Advertisement\n",
            "Contents\n",
            "Release Note\n",
            "Official Event\n",
            "Official Column\n",
            "Advent Calendar\n",
            "Qiita Award\n",
            "API\n",
            "Career\n",
            "SNS\n",
            "@Qiita\n",
            "@qiita_milestone\n",
            "@qiitapoi\n",
            "@Qiita\n",
            "Our service\n",
            "Qiita Team\n",
            "Qiita Zine\n",
            "Official Shop\n",
            "Company\n",
            "About Us\n",
            "Careers\n",
            "Qiita Blog\n"
          ]
        }
      ]
    },
    {
      "cell_type": "code",
      "source": [],
      "metadata": {
        "id": "T_86bIEZxxoS"
      },
      "execution_count": null,
      "outputs": []
    }
  ]
}