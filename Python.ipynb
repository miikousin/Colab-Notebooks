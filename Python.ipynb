{
  "nbformat": 4,
  "nbformat_minor": 0,
  "metadata": {
    "colab": {
      "provenance": [],
      "include_colab_link": true
    },
    "kernelspec": {
      "name": "python3",
      "display_name": "Python 3"
    },
    "language_info": {
      "name": "python"
    }
  },
  "cells": [
    {
      "cell_type": "markdown",
      "metadata": {
        "id": "view-in-github",
        "colab_type": "text"
      },
      "source": [
        "<a href=\"https://colab.research.google.com/github/miikousin/Colab-Notebooks/blob/main/Python.ipynb\" target=\"_parent\"><img src=\"https://colab.research.google.com/assets/colab-badge.svg\" alt=\"Open In Colab\"/></a>"
      ]
    },
    {
      "cell_type": "code",
      "source": [
        "from bs4 import BeautifulSoup\n",
        "import requests\n"
      ],
      "metadata": {
        "id": "R6l5-EK7ktTa"
      },
      "execution_count": 13,
      "outputs": []
    },
    {
      "cell_type": "code",
      "source": [
        "url = 'https://www.python.org/'\n",
        "r = requests.get(url)"
      ],
      "metadata": {
        "id": "cLv3AtFioo9j"
      },
      "execution_count": 14,
      "outputs": []
    },
    {
      "cell_type": "code",
      "source": [
        "soup = BeautifulSoup(r.text)"
      ],
      "metadata": {
        "id": "YZftNavPo6rw"
      },
      "execution_count": 15,
      "outputs": []
    },
    {
      "cell_type": "code",
      "source": [
        "print(len(soup.find_all('span')))"
      ],
      "metadata": {
        "colab": {
          "base_uri": "https://localhost:8080/"
        },
        "id": "nECV3OWWpP7m",
        "outputId": "e5981fa6-73d3-4a84-fa16-43f15014c8c9"
      },
      "execution_count": 16,
      "outputs": [
        {
          "output_type": "stream",
          "name": "stdout",
          "text": [
            "74\n"
          ]
        }
      ]
    },
    {
      "cell_type": "code",
      "source": [
        "soup.find_all('span')"
      ],
      "metadata": {
        "colab": {
          "base_uri": "https://localhost:8080/"
        },
        "id": "SB6qxk48pp6Z",
        "outputId": "2a179c86-f25f-41de-e9fd-1a022867b04c"
      },
      "execution_count": 17,
      "outputs": [
        {
          "output_type": "execute_result",
          "data": {
            "text/plain": [
              "[<span aria-hidden=\"true\" class=\"icon-arrow-down\"><span>▼</span></span>,\n",
              " <span>▼</span>,\n",
              " <span aria-hidden=\"true\" class=\"icon-arrow-up\"><span>▲</span></span>,\n",
              " <span>▲</span>,\n",
              " <span class=\"menu-icon\">≡</span>,\n",
              " <span aria-hidden=\"true\" class=\"icon-search\"></span>,\n",
              " <span class=\"breaker\"></span>,\n",
              " <span aria-hidden=\"true\" class=\"icon-mastodon\"></span>,\n",
              " <span aria-hidden=\"true\" class=\"icon-freenode\"></span>,\n",
              " <span aria-hidden=\"true\" class=\"icon-twitter\"></span>,\n",
              " <span data-html-include=\"/authenticated\"></span>,\n",
              " <span class=\"message\">Launch Interactive Shell</span>,\n",
              " <span class=\"comment\"># Python 3: Fibonacci series up to n</span>,\n",
              " <span class=\"output\">0 1 1 2 3 5 8 13 21 34 55 89 144 233 377 610 987</span>,\n",
              " <span class=\"comment\"># Python 3: List comprehensions</span>,\n",
              " <span class=\"output\">['BANANA', 'APPLE', 'LIME']</span>,\n",
              " <span class=\"comment\"># List and the enumerate function</span>,\n",
              " <span class=\"output\">[(0, 'Banana'), (1, 'Apple'), (2, 'Lime')]</span>,\n",
              " <span class=\"comment\"># Python 3: Simple arithmetic</span>,\n",
              " <span class=\"output\">0.5</span>,\n",
              " <span class=\"output\">8</span>,\n",
              " <span class=\"comment\"># classic division returns a float</span>,\n",
              " <span class=\"output\">5.666666666666667</span>,\n",
              " <span class=\"comment\"># floor division</span>,\n",
              " <span class=\"output\">5</span>,\n",
              " <span class=\"comment\"># For loop on a list</span>,\n",
              " <span class=\"output\">The product is: 384</span>,\n",
              " <span class=\"comment\"># Simple output (with Unicode)</span>,\n",
              " <span class=\"output\">Hello, I'm Python!</span>,\n",
              " <span class=\"comment\"># Input, assignment</span>,\n",
              " <span class=\"output\">What is your name?\n",
              " Python</span>,\n",
              " <span class=\"output\">Hi, Python.</span>,\n",
              " <span class=\"breaker\"></span>,\n",
              " <span class=\"notification-bar__icon\">\n",
              " <i aria-hidden=\"true\" class=\"fa fa-chart-line\"></i>\n",
              " </span>,\n",
              " <span class=\"notification-bar__message\">The 2024 PSF Board Election is Open: If you are a voting member of the PSF that affirmed your intention to participate in this year’s election, we need your vote!   <a class=\"button button--dark button--small button--primary\" href=\"https://pyfound.blogspot.com/2024/07/the-2024-psf-board-election-is-open.html\" rel=\"noopener\" style=\"color: #606060; border-color: #006dad; background-color: #006dad;\" target=\"_blank\">More Info</a>\n",
              " </span>,\n",
              " <span aria-hidden=\"true\" class=\"icon-get-started\"></span>,\n",
              " <span aria-hidden=\"true\" class=\"icon-download\"></span>,\n",
              " <span aria-hidden=\"true\" class=\"icon-documentation\"></span>,\n",
              " <span aria-hidden=\"true\" class=\"icon-jobs\"></span>,\n",
              " <span aria-hidden=\"true\" class=\"icon-news\"></span>,\n",
              " <span class=\"say-no-more\">2024-</span>,\n",
              " <span class=\"say-no-more\">2024-</span>,\n",
              " <span class=\"say-no-more\">2024-</span>,\n",
              " <span class=\"say-no-more\">2024-</span>,\n",
              " <span class=\"say-no-more\">2024-</span>,\n",
              " <span aria-hidden=\"true\" class=\"icon-calendar\"></span>,\n",
              " <span class=\"say-no-more\">2024-</span>,\n",
              " <span class=\"say-no-more\">2024-</span>,\n",
              " <span class=\"say-no-more\">2024-</span>,\n",
              " <span class=\"say-no-more\">2024-</span>,\n",
              " <span class=\"say-no-more\">2024-</span>,\n",
              " <span aria-hidden=\"true\" class=\"icon-success-stories\"></span>,\n",
              " <span aria-hidden=\"true\" class=\"icon-python\"></span>,\n",
              " <span class=\"tag-wrapper\"><a class=\"tag\" href=\"http://www.djangoproject.com/\">Django</a>, <a class=\"tag\" href=\"http://www.pylonsproject.org/\">Pyramid</a>, <a class=\"tag\" href=\"http://bottlepy.org\">Bottle</a>, <a class=\"tag\" href=\"http://tornadoweb.org\">Tornado</a>, <a class=\"tag\" href=\"http://flask.pocoo.org/\">Flask</a>, <a class=\"tag\" href=\"http://www.web2py.com/\">web2py</a></span>,\n",
              " <span class=\"tag-wrapper\"><a class=\"tag\" href=\"http://wiki.python.org/moin/TkInter\">tkInter</a>, <a class=\"tag\" href=\"https://wiki.gnome.org/Projects/PyGObject\">PyGObject</a>, <a class=\"tag\" href=\"http://www.riverbankcomputing.co.uk/software/pyqt/intro\">PyQt</a>, <a class=\"tag\" href=\"https://wiki.qt.io/PySide\">PySide</a>, <a class=\"tag\" href=\"https://kivy.org/\">Kivy</a>, <a class=\"tag\" href=\"http://www.wxpython.org/\">wxPython</a>, <a class=\"tag\" href=\"https://dearpygui.readthedocs.io/en/latest/\">DearPyGui</a></span>,\n",
              " <span class=\"tag-wrapper\">\n",
              " <a class=\"tag\" href=\"http://www.scipy.org\">SciPy</a>, <a class=\"tag\" href=\"http://pandas.pydata.org/\">Pandas</a>, <a class=\"tag\" href=\"http://ipython.org\">IPython</a></span>,\n",
              " <span class=\"tag-wrapper\"><a class=\"tag\" href=\"http://buildbot.net/\">Buildbot</a>, <a class=\"tag\" href=\"http://trac.edgewall.org/\">Trac</a>, <a class=\"tag\" href=\"http://roundup.sourceforge.net/\">Roundup</a></span>,\n",
              " <span class=\"tag-wrapper\"><a class=\"tag\" href=\"http://www.ansible.com\">Ansible</a>, <a class=\"tag\" href=\"https://saltproject.io\">Salt</a>, <a class=\"tag\" href=\"https://www.openstack.org\">OpenStack</a>, <a class=\"tag\" href=\"https://xon.sh\">xonsh</a></span>,\n",
              " <span class=\"prompt\">&gt;&gt;&gt;</span>,\n",
              " <span class=\"say-no-more\"> (PEPs)</span>,\n",
              " <span class=\"say-no-more\"> is discussed here.</span>,\n",
              " <span class=\"icon-feed\"></span>,\n",
              " <span class=\"prompt\">&gt;&gt;&gt;</span>,\n",
              " <span aria-hidden=\"true\" class=\"icon-arrow-up\"><span>▲</span></span>,\n",
              " <span>▲</span>,\n",
              " <span aria-hidden=\"true\" class=\"icon-arrow-up\"><span>▲</span></span>,\n",
              " <span>▲</span>,\n",
              " <span class=\"say-no-more\">General</span>,\n",
              " <span class=\"say-no-more\">Initiatives</span>,\n",
              " <span class=\"python-status-indicator-default\" id=\"python-status-indicator\"></span>,\n",
              " <span class=\"pre\">Copyright ©2001-2024.</span>,\n",
              " <span class=\"pre\"><a href=\"/psf-landing/\">Python Software Foundation</a></span>,\n",
              " <span class=\"pre\"><a href=\"/about/legal/\">Legal Statements</a></span>,\n",
              " <span class=\"pre\"><a href=\"/privacy/\">Privacy Policy</a></span>]"
            ]
          },
          "metadata": {},
          "execution_count": 17
        }
      ]
    },
    {
      "cell_type": "code",
      "source": [
        "soup.find_all('span', class_='say-no-more')"
      ],
      "metadata": {
        "colab": {
          "base_uri": "https://localhost:8080/"
        },
        "id": "ziXJViT9pxIR",
        "outputId": "71c1a1c8-33e6-41f0-e587-6d1c37c8d3c7"
      },
      "execution_count": 19,
      "outputs": [
        {
          "output_type": "execute_result",
          "data": {
            "text/plain": [
              "[<span class=\"say-no-more\">2024-</span>,\n",
              " <span class=\"say-no-more\">2024-</span>,\n",
              " <span class=\"say-no-more\">2024-</span>,\n",
              " <span class=\"say-no-more\">2024-</span>,\n",
              " <span class=\"say-no-more\">2024-</span>,\n",
              " <span class=\"say-no-more\">2024-</span>,\n",
              " <span class=\"say-no-more\">2024-</span>,\n",
              " <span class=\"say-no-more\">2024-</span>,\n",
              " <span class=\"say-no-more\">2024-</span>,\n",
              " <span class=\"say-no-more\">2024-</span>,\n",
              " <span class=\"say-no-more\"> (PEPs)</span>,\n",
              " <span class=\"say-no-more\"> is discussed here.</span>,\n",
              " <span class=\"say-no-more\">General</span>,\n",
              " <span class=\"say-no-more\">Initiatives</span>]"
            ]
          },
          "metadata": {},
          "execution_count": 19
        }
      ]
    },
    {
      "cell_type": "code",
      "source": [
        "soup.find_all('span', class_=['say-no-more', 'message'])"
      ],
      "metadata": {
        "colab": {
          "base_uri": "https://localhost:8080/"
        },
        "id": "50ehfYTsqPdt",
        "outputId": "e1efb6cf-901c-4d19-94c0-a1af02c04e26"
      },
      "execution_count": 20,
      "outputs": [
        {
          "output_type": "execute_result",
          "data": {
            "text/plain": [
              "[<span class=\"message\">Launch Interactive Shell</span>,\n",
              " <span class=\"say-no-more\">2024-</span>,\n",
              " <span class=\"say-no-more\">2024-</span>,\n",
              " <span class=\"say-no-more\">2024-</span>,\n",
              " <span class=\"say-no-more\">2024-</span>,\n",
              " <span class=\"say-no-more\">2024-</span>,\n",
              " <span class=\"say-no-more\">2024-</span>,\n",
              " <span class=\"say-no-more\">2024-</span>,\n",
              " <span class=\"say-no-more\">2024-</span>,\n",
              " <span class=\"say-no-more\">2024-</span>,\n",
              " <span class=\"say-no-more\">2024-</span>,\n",
              " <span class=\"say-no-more\"> (PEPs)</span>,\n",
              " <span class=\"say-no-more\"> is discussed here.</span>,\n",
              " <span class=\"say-no-more\">General</span>,\n",
              " <span class=\"say-no-more\">Initiatives</span>]"
            ]
          },
          "metadata": {},
          "execution_count": 20
        }
      ]
    },
    {
      "cell_type": "code",
      "source": [
        "url = 'https://tech-diary.net/python-scraping-books/'\n",
        "r = requests.get(url)"
      ],
      "metadata": {
        "id": "fVNXCf9erCjz"
      },
      "execution_count": 21,
      "outputs": []
    },
    {
      "cell_type": "code",
      "source": [
        "soup = BeautifulSoup(r.text)"
      ],
      "metadata": {
        "id": "rGmqAoETruis"
      },
      "execution_count": 22,
      "outputs": []
    },
    {
      "cell_type": "code",
      "source": [
        "soup.find_all(['h2', 'h3'])"
      ],
      "metadata": {
        "colab": {
          "base_uri": "https://localhost:8080/"
        },
        "id": "sZAOSuIor0-_",
        "outputId": "402311ca-1a66-40e5-f966-cf6fff968f40"
      },
      "execution_count": 24,
      "outputs": [
        {
          "output_type": "execute_result",
          "data": {
            "text/plain": [
              "[<h2 class=\"wp-block-heading\" id=\"厳選3冊-webスクレイピング-python-でおすすめの本-実務ok\">【厳選3冊】Webスクレイピング(Python)でおすすめの本【実務OK】</h2>,\n",
              " <h3 class=\"wp-block-heading\" id=\"おすすめ①-python2年生-スクレイピングのしくみ-体験してわかる-会話でまなべる\">おすすめ① : Python2年生 スクレイピングのしくみ 体験してわかる！会話でまなべる！</h3>,\n",
              " <h3 class=\"wp-block-heading\" id=\"おすすめ②-pythonクローリング-スクレイピング-増補改訂版\">おすすめ② : Pythonクローリング&amp;スクレイピング[増補改訂版]</h3>,\n",
              " <h3 class=\"wp-block-heading\" id=\"おすすめ③-pythonによるwebスクレイピング-第2版\">おすすめ③ : PythonによるWebスクレイピング 第2版</h3>,\n",
              " <h2 class=\"wp-block-heading\" id=\"webスクレイピング学習でpython以外に学ぶべきこと3つ\">Webスクレイピング学習でPython以外に学ぶべきこと3つ</h2>,\n",
              " <h3 class=\"wp-block-heading\" id=\"学ぶべきこと①-html-css\">学ぶべきこと① : HTML, CSS</h3>,\n",
              " <h3 class=\"wp-block-heading\" id=\"学ぶべきこと②-javascript\">学ぶべきこと② : JavaScript</h3>,\n",
              " <h3 class=\"wp-block-heading\" id=\"学ぶべきこと③-web周辺の知識\">学ぶべきこと③ : Web周辺の知識</h3>,\n",
              " <h2 class=\"wp-block-heading\" id=\"まとめ-まずは無料でpythonとスクレイピングを学ぼう-本より分かりやすい\">まとめ : まずは無料でPythonとスクレイピングを学ぼう【本より分かりやすい】</h2>,\n",
              " <h2 class=\"l-articleBottom__title c-secTitle\">\n",
              " \t\tこの記事を書いた人\t</h2>,\n",
              " <h2 class=\"l-articleBottom__title c-secTitle\">関連記事</h2>]"
            ]
          },
          "metadata": {},
          "execution_count": 24
        }
      ]
    },
    {
      "cell_type": "code",
      "source": [
        "header = [tag.text for tag in soup.find_all(['h2', 'h3'])]\n",
        "header"
      ],
      "metadata": {
        "colab": {
          "base_uri": "https://localhost:8080/"
        },
        "id": "fy6Xp1YWsAo9",
        "outputId": "e5e852ee-e5c9-415f-97e4-01df2ec23c96"
      },
      "execution_count": 25,
      "outputs": [
        {
          "output_type": "execute_result",
          "data": {
            "text/plain": [
              "['【厳選3冊】Webスクレイピング(Python)でおすすめの本【実務OK】',\n",
              " 'おすすめ① : Python2年生 スクレイピングのしくみ 体験してわかる！会話でまなべる！',\n",
              " 'おすすめ② : Pythonクローリング&スクレイピング[増補改訂版]',\n",
              " 'おすすめ③ : PythonによるWebスクレイピング 第2版',\n",
              " 'Webスクレイピング学習でPython以外に学ぶべきこと3つ',\n",
              " '学ぶべきこと① : HTML, CSS',\n",
              " '学ぶべきこと② : JavaScript',\n",
              " '学ぶべきこと③ : Web周辺の知識',\n",
              " 'まとめ : まずは無料でPythonとスクレイピングを学ぼう【本より分かりやすい】',\n",
              " '\\n\\t\\tこの記事を書いた人\\t',\n",
              " '関連記事']"
            ]
          },
          "metadata": {},
          "execution_count": 25
        }
      ]
    },
    {
      "cell_type": "code",
      "source": [
        "soup.find('article').find_all(['h2', 'h3'])"
      ],
      "metadata": {
        "colab": {
          "base_uri": "https://localhost:8080/"
        },
        "id": "lxkksQ4UtJfi",
        "outputId": "f7df3ea4-d2e8-4aef-e8f6-9475a2a79803"
      },
      "execution_count": 26,
      "outputs": [
        {
          "output_type": "execute_result",
          "data": {
            "text/plain": [
              "[<h2 class=\"wp-block-heading\" id=\"厳選3冊-webスクレイピング-python-でおすすめの本-実務ok\">【厳選3冊】Webスクレイピング(Python)でおすすめの本【実務OK】</h2>,\n",
              " <h3 class=\"wp-block-heading\" id=\"おすすめ①-python2年生-スクレイピングのしくみ-体験してわかる-会話でまなべる\">おすすめ① : Python2年生 スクレイピングのしくみ 体験してわかる！会話でまなべる！</h3>,\n",
              " <h3 class=\"wp-block-heading\" id=\"おすすめ②-pythonクローリング-スクレイピング-増補改訂版\">おすすめ② : Pythonクローリング&amp;スクレイピング[増補改訂版]</h3>,\n",
              " <h3 class=\"wp-block-heading\" id=\"おすすめ③-pythonによるwebスクレイピング-第2版\">おすすめ③ : PythonによるWebスクレイピング 第2版</h3>,\n",
              " <h2 class=\"wp-block-heading\" id=\"webスクレイピング学習でpython以外に学ぶべきこと3つ\">Webスクレイピング学習でPython以外に学ぶべきこと3つ</h2>,\n",
              " <h3 class=\"wp-block-heading\" id=\"学ぶべきこと①-html-css\">学ぶべきこと① : HTML, CSS</h3>,\n",
              " <h3 class=\"wp-block-heading\" id=\"学ぶべきこと②-javascript\">学ぶべきこと② : JavaScript</h3>,\n",
              " <h3 class=\"wp-block-heading\" id=\"学ぶべきこと③-web周辺の知識\">学ぶべきこと③ : Web周辺の知識</h3>,\n",
              " <h2 class=\"wp-block-heading\" id=\"まとめ-まずは無料でpythonとスクレイピングを学ぼう-本より分かりやすい\">まとめ : まずは無料でPythonとスクレイピングを学ぼう【本より分かりやすい】</h2>,\n",
              " <h2 class=\"l-articleBottom__title c-secTitle\">\n",
              " \t\tこの記事を書いた人\t</h2>,\n",
              " <h2 class=\"l-articleBottom__title c-secTitle\">関連記事</h2>]"
            ]
          },
          "metadata": {},
          "execution_count": 26
        }
      ]
    },
    {
      "cell_type": "code",
      "source": [],
      "metadata": {
        "id": "CEIpWagluXsO"
      },
      "execution_count": null,
      "outputs": []
    }
  ]
}