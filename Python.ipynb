{
  "nbformat": 4,
  "nbformat_minor": 0,
  "metadata": {
    "colab": {
      "provenance": [],
      "include_colab_link": true
    },
    "kernelspec": {
      "name": "python3",
      "display_name": "Python 3"
    },
    "language_info": {
      "name": "python"
    }
  },
  "cells": [
    {
      "cell_type": "markdown",
      "metadata": {
        "id": "view-in-github",
        "colab_type": "text"
      },
      "source": [
        "<a href=\"https://colab.research.google.com/github/miikousin/Colab-Notebooks/blob/main/Python.ipynb\" target=\"_parent\"><img src=\"https://colab.research.google.com/assets/colab-badge.svg\" alt=\"Open In Colab\"/></a>"
      ]
    },
    {
      "cell_type": "code",
      "source": [
        "import requests\n",
        "from bs4 import BeautifulSoup\n",
        "\n",
        "url = 'https://www.python.org/'\n",
        "r = requests.get(url)\n",
        "soup = BeautifulSoup(r.text)\n",
        "soup.find_all('h2')\n",
        "for i, h2_tag in enumerate(soup.find_all('h2')):\n",
        "  print(i, h2_tag.text)\n"
      ],
      "metadata": {
        "colab": {
          "base_uri": "https://localhost:8080/"
        },
        "id": "thasfOyPcrX0",
        "outputId": "9604a2d6-4b88-40d3-e1a9-e63c80917959"
      },
      "execution_count": 8,
      "outputs": [
        {
          "output_type": "stream",
          "name": "stdout",
          "text": [
            "0 Get Started\n",
            "1 Download\n",
            "2 Docs\n",
            "3 Jobs\n",
            "4 Latest News\n",
            "5 Upcoming Events\n",
            "6 Success Stories\n",
            "7 Use Python for…\n",
            "8 \n",
            ">>> Python Enhancement Proposals (PEPs): The future of Python is discussed here.\n",
            " RSS\n",
            "\n",
            "9 \n",
            ">>> Python Software Foundation\n",
            "\n"
          ]
        }
      ]
    },
    {
      "cell_type": "code",
      "source": [
        "h2_text_list = []\n",
        "for i, h2_tag in enumerate(soup.find_all('h2')):\n",
        "  h2_text_list.append(h2_tag.text)"
      ],
      "metadata": {
        "id": "YDucr8GVhuH-"
      },
      "execution_count": 9,
      "outputs": []
    },
    {
      "cell_type": "code",
      "source": [
        "h2_text_list = [h2_tag.text for h2_tag in soup.find_all('h2')]"
      ],
      "metadata": {
        "id": "Uc8BtUndla_9"
      },
      "execution_count": 11,
      "outputs": []
    },
    {
      "cell_type": "code",
      "source": [
        "h2_text_list"
      ],
      "metadata": {
        "colab": {
          "base_uri": "https://localhost:8080/"
        },
        "id": "JJxBl8n-kpKP",
        "outputId": "3b570686-130b-40a1-ee1f-6d17b1f38ea9"
      },
      "execution_count": 12,
      "outputs": [
        {
          "output_type": "execute_result",
          "data": {
            "text/plain": [
              "['Get Started',\n",
              " 'Download',\n",
              " 'Docs',\n",
              " 'Jobs',\n",
              " 'Latest News',\n",
              " 'Upcoming Events',\n",
              " 'Success Stories',\n",
              " 'Use Python for…',\n",
              " '\\n>>> Python Enhancement Proposals (PEPs): The future of Python is discussed here.\\n RSS\\n',\n",
              " '\\n>>> Python Software Foundation\\n']"
            ]
          },
          "metadata": {},
          "execution_count": 12
        }
      ]
    },
    {
      "cell_type": "code",
      "source": [],
      "metadata": {
        "id": "R6l5-EK7ktTa"
      },
      "execution_count": null,
      "outputs": []
    }
  ]
}