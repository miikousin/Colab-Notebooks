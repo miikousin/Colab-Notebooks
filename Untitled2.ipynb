{
  "nbformat": 4,
  "nbformat_minor": 0,
  "metadata": {
    "colab": {
      "provenance": [],
      "authorship_tag": "ABX9TyMmv7ggr8U4ozf7iO6UYaTk",
      "include_colab_link": true
    },
    "kernelspec": {
      "name": "python3",
      "display_name": "Python 3"
    },
    "language_info": {
      "name": "python"
    }
  },
  "cells": [
    {
      "cell_type": "markdown",
      "metadata": {
        "id": "view-in-github",
        "colab_type": "text"
      },
      "source": [
        "<a href=\"https://colab.research.google.com/github/miikousin/Colab-Notebooks/blob/main/Untitled2.ipynb\" target=\"_parent\"><img src=\"https://colab.research.google.com/assets/colab-badge.svg\" alt=\"Open In Colab\"/></a>"
      ]
    },
    {
      "cell_type": "code",
      "execution_count": 1,
      "metadata": {
        "id": "Las1cdbLWgSZ"
      },
      "outputs": [],
      "source": [
        "from time import sleep\n",
        "from bs4 import BeautifulSoup\n",
        "import requests"
      ]
    },
    {
      "cell_type": "code",
      "source": [
        "url = 'https://suumo.jp/chintai/tokyo/sc_shinjuku/?page={}'\n",
        "d_list = []"
      ],
      "metadata": {
        "id": "AvXFzNd9XmU_"
      },
      "execution_count": 7,
      "outputs": []
    },
    {
      "cell_type": "code",
      "source": [
        "for i in range(1, 4):\n",
        "  print(len(d_list))\n",
        "  target_url = url.format(i)\n",
        "  print(target_url)\n",
        "\n",
        "  r = requests.get(target_url)\n",
        "\n",
        "  sleep(1)\n",
        "\n",
        "  soup = BeautifulSoup(r.text)\n",
        "\n",
        "  contents = soup.find_all('div', class_='cassetteitem')\n",
        "  for content in contents:\n",
        "    ditail = content.find('div', class_='cassetteitem_content')\n",
        "    table = content.find('table', class_='cassetteitem_other')\n",
        "    title = ditail.find('div', class_='cassetteitem_content-title').text\n",
        "    adress = ditail.find('li', class_='cassetteitem_detail-col1').text\n",
        "    access = ditail.find('li', class_='cassetteitem_detail-col2').text\n",
        "    age = ditail.find('li', class_='cassetteitem_detail-col3').text\n",
        "    tr_tags = table.find_all('tr', class_='js-cassette_link')\n",
        "    for tr_tag in tr_tags:\n",
        "      floor, price, shikirei, capa = tr_tag.find_all('td')[2:6]\n",
        "      yachin, kanri = price.find_all('li')\n",
        "      shikikin, reikin = shikirei.find_all('li')\n",
        "      madori, menseki = capa.find_all('li')\n",
        "      d = {\n",
        "        'title': title,\n",
        "        'adress': adress,\n",
        "        'access': access,\n",
        "        'age': age,\n",
        "        'floor': floor.text,\n",
        "        'yachin': yachin.text,\n",
        "        'kanri': kanri.text,\n",
        "        'shikikin': shikikin.text,\n",
        "        'reikin': reikin.text,\n",
        "        'madori': madori.text,\n",
        "        'menseki': menseki.text\n",
        "      }\n",
        "\n",
        "      d_list.append(d)"
      ],
      "metadata": {
        "colab": {
          "base_uri": "https://localhost:8080/"
        },
        "id": "aTFKa35qYAK8",
        "outputId": "3d530b20-1419-47c1-ce61-d331cae9454b"
      },
      "execution_count": 8,
      "outputs": [
        {
          "output_type": "stream",
          "name": "stdout",
          "text": [
            "0\n",
            "https://suumo.jp/chintai/tokyo/sc_shinjuku/?page=1\n",
            "166\n",
            "https://suumo.jp/chintai/tokyo/sc_shinjuku/?page=2\n",
            "282\n",
            "https://suumo.jp/chintai/tokyo/sc_shinjuku/?page=3\n"
          ]
        }
      ]
    },
    {
      "cell_type": "code",
      "source": [
        "d_list[-1]"
      ],
      "metadata": {
        "colab": {
          "base_uri": "https://localhost:8080/"
        },
        "id": "rJ6P-3biYn-7",
        "outputId": "a9797af8-5915-40c5-ab25-5211d0413b2d"
      },
      "execution_count": 9,
      "outputs": [
        {
          "output_type": "execute_result",
          "data": {
            "text/plain": [
              "{'title': '東京メトロ東西線 落合駅 4階建 築2年',\n",
              " 'adress': '東京都新宿区上落合３',\n",
              " 'access': '\\n東京メトロ東西線/落合駅 歩4分\\n都営大江戸線/中井駅 歩5分\\nＪＲ中央線/東中野駅 歩5分\\n',\n",
              " 'age': '\\n築2年\\n4階建\\n',\n",
              " 'floor': '\\r\\n\\t\\t\\t\\t\\t\\t\\t\\t\\t\\t\\t1階',\n",
              " 'yachin': '8.5万円',\n",
              " 'kanri': '5500円',\n",
              " 'shikikin': '-',\n",
              " 'reikin': '8.5万円',\n",
              " 'madori': '1K',\n",
              " 'menseki': '21m2'}"
            ]
          },
          "metadata": {},
          "execution_count": 9
        }
      ]
    },
    {
      "cell_type": "code",
      "source": [],
      "metadata": {
        "id": "6krng5XlbNIv"
      },
      "execution_count": null,
      "outputs": []
    }
  ]
}