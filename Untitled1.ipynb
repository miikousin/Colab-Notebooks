{
  "nbformat": 4,
  "nbformat_minor": 0,
  "metadata": {
    "colab": {
      "provenance": [],
      "authorship_tag": "ABX9TyOqZiTQD+55g/nZ3nEKweNh",
      "include_colab_link": true
    },
    "kernelspec": {
      "name": "python3",
      "display_name": "Python 3"
    },
    "language_info": {
      "name": "python"
    }
  },
  "cells": [
    {
      "cell_type": "markdown",
      "metadata": {
        "id": "view-in-github",
        "colab_type": "text"
      },
      "source": [
        "<a href=\"https://colab.research.google.com/github/miikousin/Colab-Notebooks/blob/main/Untitled1.ipynb\" target=\"_parent\"><img src=\"https://colab.research.google.com/assets/colab-badge.svg\" alt=\"Open In Colab\"/></a>"
      ]
    },
    {
      "cell_type": "code",
      "execution_count": 1,
      "metadata": {
        "id": "Zr24TaSMR4l0"
      },
      "outputs": [],
      "source": [
        "from bs4 import BeautifulSoup\n",
        "import requests"
      ]
    },
    {
      "cell_type": "code",
      "source": [
        "url = 'https://suumo.jp/chintai/tokyo/sc_shinjuku/?page=1'\n",
        "target_url = url.format(1)"
      ],
      "metadata": {
        "id": "l0gr1CiiSBlU"
      },
      "execution_count": 2,
      "outputs": []
    },
    {
      "cell_type": "code",
      "source": [
        "print(target_url)"
      ],
      "metadata": {
        "colab": {
          "base_uri": "https://localhost:8080/"
        },
        "id": "FngdNhFJSwo7",
        "outputId": "2e9408d9-8ff2-49f6-958c-0f4e16f7ddd3"
      },
      "execution_count": 3,
      "outputs": [
        {
          "output_type": "stream",
          "name": "stdout",
          "text": [
            "https://suumo.jp/chintai/tokyo/sc_shinjuku/?page=1\n"
          ]
        }
      ]
    },
    {
      "cell_type": "code",
      "source": [
        "r = requests.get(target_url)\n",
        "soup = BeautifulSoup(r.text)"
      ],
      "metadata": {
        "id": "E_9ycbiYS21_"
      },
      "execution_count": 4,
      "outputs": []
    },
    {
      "cell_type": "code",
      "source": [
        "contents = soup.find_all('div', class_='cassetteitem')"
      ],
      "metadata": {
        "id": "UwfLT9-ZTOCi"
      },
      "execution_count": 5,
      "outputs": []
    },
    {
      "cell_type": "code",
      "source": [
        "len(contents)"
      ],
      "metadata": {
        "colab": {
          "base_uri": "https://localhost:8080/"
        },
        "id": "NkU5zvi0UOL7",
        "outputId": "83d2bad3-91a7-4027-b5ae-efcbf83ab23e"
      },
      "execution_count": 6,
      "outputs": [
        {
          "output_type": "execute_result",
          "data": {
            "text/plain": [
              "20"
            ]
          },
          "metadata": {},
          "execution_count": 6
        }
      ]
    },
    {
      "cell_type": "code",
      "source": [
        "content = contents[0]"
      ],
      "metadata": {
        "id": "u-ImzdjKU5fQ"
      },
      "execution_count": 7,
      "outputs": []
    },
    {
      "cell_type": "code",
      "source": [
        "adress = content.find('li', class_='cassetteitem_detail-col1')"
      ],
      "metadata": {
        "id": "F_DmQxs2VswV"
      },
      "execution_count": 8,
      "outputs": []
    },
    {
      "cell_type": "code",
      "source": [
        "adress.text\n"
      ],
      "metadata": {
        "colab": {
          "base_uri": "https://localhost:8080/",
          "height": 36
        },
        "id": "wwYqU3F0WaBP",
        "outputId": "db7de5b0-4a68-492f-cb8c-d14e069e6091"
      },
      "execution_count": 9,
      "outputs": [
        {
          "output_type": "execute_result",
          "data": {
            "text/plain": [
              "'東京都新宿区北新宿４'"
            ],
            "application/vnd.google.colaboratory.intrinsic+json": {
              "type": "string"
            }
          },
          "metadata": {},
          "execution_count": 9
        }
      ]
    },
    {
      "cell_type": "code",
      "source": [],
      "metadata": {
        "id": "KXmH6nnQWZ6z"
      },
      "execution_count": 9,
      "outputs": []
    },
    {
      "cell_type": "code",
      "source": [
        "access = content.find('li', class_='cassetteitem_detail-col2')\n",
        "age = content.find('li', class_='cassetteitem_detail-col3')"
      ],
      "metadata": {
        "id": "Vw_galPPWE6V"
      },
      "execution_count": 10,
      "outputs": []
    },
    {
      "cell_type": "code",
      "source": [
        "print(access)"
      ],
      "metadata": {
        "colab": {
          "base_uri": "https://localhost:8080/"
        },
        "id": "jy-29eaJWPT1",
        "outputId": "0fdb5194-4039-4439-b7d9-dfa359e90ec8"
      },
      "execution_count": 11,
      "outputs": [
        {
          "output_type": "stream",
          "name": "stdout",
          "text": [
            "<li class=\"cassetteitem_detail-col2\">\n",
            "<div class=\"cassetteitem_detail-text\">ＪＲ総武線/東中野駅 歩5分</div>\n",
            "<div class=\"cassetteitem_detail-text\">東京メトロ東西線/落合駅 歩8分</div>\n",
            "<div class=\"cassetteitem_detail-text\">都営大江戸線/中井駅 歩15分</div>\n",
            "</li>\n"
          ]
        }
      ]
    },
    {
      "cell_type": "code",
      "source": [
        "ditail = content.find('div', class_='cassetteitem_content')"
      ],
      "metadata": {
        "id": "fYbcI3c9WT1w"
      },
      "execution_count": 12,
      "outputs": []
    },
    {
      "cell_type": "code",
      "source": [
        "table = content.find('table', class_='cassetteitem_other')"
      ],
      "metadata": {
        "id": "__7M9_WoYZDn"
      },
      "execution_count": 13,
      "outputs": []
    },
    {
      "cell_type": "code",
      "source": [
        "title = ditail.find('div', class_='cassetteitem_content-title').text"
      ],
      "metadata": {
        "id": "yM-ai9RkVSL4"
      },
      "execution_count": 14,
      "outputs": []
    },
    {
      "cell_type": "code",
      "source": [
        "adress = ditail.find('li', class_='cassetteitem_detail-col1').text"
      ],
      "metadata": {
        "id": "8tnV6sA-ZLvo"
      },
      "execution_count": 15,
      "outputs": []
    },
    {
      "cell_type": "code",
      "source": [
        "access = ditail.find('li', class_='cassetteitem_detail-col2').text"
      ],
      "metadata": {
        "id": "qyLOwpK3aBri"
      },
      "execution_count": 16,
      "outputs": []
    },
    {
      "cell_type": "code",
      "source": [
        "age = ditail.find('li', class_='cassetteitem_detail-col3').text"
      ],
      "metadata": {
        "id": "Wknl_JvcaF-A"
      },
      "execution_count": 17,
      "outputs": []
    },
    {
      "cell_type": "code",
      "source": [
        "title, adress, access, age"
      ],
      "metadata": {
        "colab": {
          "base_uri": "https://localhost:8080/"
        },
        "id": "T9jpF5k7aJhd",
        "outputId": "d36eda58-258b-499d-ac5a-685ff5d88543"
      },
      "execution_count": 18,
      "outputs": [
        {
          "output_type": "execute_result",
          "data": {
            "text/plain": [
              "('ＪＲ総武線 東中野駅 3階建 築14年',\n",
              " '東京都新宿区北新宿４',\n",
              " '\\nＪＲ総武線/東中野駅 歩5分\\n東京メトロ東西線/落合駅 歩8分\\n都営大江戸線/中井駅 歩15分\\n',\n",
              " '\\n築14年\\n3階建\\n')"
            ]
          },
          "metadata": {},
          "execution_count": 18
        }
      ]
    },
    {
      "cell_type": "code",
      "source": [
        "tr_tags = table.find_all('tr', class_='js-cassette_link')"
      ],
      "metadata": {
        "id": "xtgCgzZSa_Id"
      },
      "execution_count": 19,
      "outputs": []
    },
    {
      "cell_type": "code",
      "source": [
        "tr_tag = tr_tags[0]"
      ],
      "metadata": {
        "id": "HvqQ0lt1bXf_"
      },
      "execution_count": 20,
      "outputs": []
    },
    {
      "cell_type": "code",
      "source": [
        "floor, price, shikirei, capa = tr_tag.find_all('td')[2:6]"
      ],
      "metadata": {
        "id": "HuQXSkg6bjs3"
      },
      "execution_count": 43,
      "outputs": []
    },
    {
      "cell_type": "code",
      "source": [
        "capa"
      ],
      "metadata": {
        "colab": {
          "base_uri": "https://localhost:8080/"
        },
        "id": "XA0RsOLJJbyJ",
        "outputId": "ed65abec-6e52-4206-83eb-8f72b3dd76fa"
      },
      "execution_count": 28,
      "outputs": [
        {
          "output_type": "execute_result",
          "data": {
            "text/plain": [
              "<td>\n",
              "<ul>\n",
              "<li><span class=\"cassetteitem_madori\">2LDK</span></li>\n",
              "<li><span class=\"cassetteitem_menseki\">65.55m<sup>2</sup></span></li>\n",
              "</ul>\n",
              "</td>"
            ]
          },
          "metadata": {},
          "execution_count": 28
        }
      ]
    },
    {
      "cell_type": "code",
      "source": [
        "floor.text"
      ],
      "metadata": {
        "colab": {
          "base_uri": "https://localhost:8080/",
          "height": 36
        },
        "id": "KsgjNA9NKyAl",
        "outputId": "af9fc379-5f9c-4704-ae53-5b3501c648c3"
      },
      "execution_count": 29,
      "outputs": [
        {
          "output_type": "execute_result",
          "data": {
            "text/plain": [
              "'\\r\\n\\t\\t\\t\\t\\t\\t\\t\\t\\t\\t\\t3階'"
            ],
            "application/vnd.google.colaboratory.intrinsic+json": {
              "type": "string"
            }
          },
          "metadata": {},
          "execution_count": 29
        }
      ]
    },
    {
      "cell_type": "code",
      "source": [
        "yachin, kanri = price.find_all('li')"
      ],
      "metadata": {
        "id": "aMb45oU6K2FP"
      },
      "execution_count": 37,
      "outputs": []
    },
    {
      "cell_type": "code",
      "source": [
        "yachin.text"
      ],
      "metadata": {
        "colab": {
          "base_uri": "https://localhost:8080/",
          "height": 36
        },
        "id": "rMQIQIhNLm0l",
        "outputId": "a1006545-be84-450d-9776-855a7c5d4524"
      },
      "execution_count": 39,
      "outputs": [
        {
          "output_type": "execute_result",
          "data": {
            "text/plain": [
              "'19万円'"
            ],
            "application/vnd.google.colaboratory.intrinsic+json": {
              "type": "string"
            }
          },
          "metadata": {},
          "execution_count": 39
        }
      ]
    },
    {
      "cell_type": "code",
      "source": [
        "kanri.text"
      ],
      "metadata": {
        "colab": {
          "base_uri": "https://localhost:8080/",
          "height": 36
        },
        "id": "SSaDOZY7MiL3",
        "outputId": "b254557d-7381-40e5-9ab9-8b83538c5223"
      },
      "execution_count": 40,
      "outputs": [
        {
          "output_type": "execute_result",
          "data": {
            "text/plain": [
              "'-'"
            ],
            "application/vnd.google.colaboratory.intrinsic+json": {
              "type": "string"
            }
          },
          "metadata": {},
          "execution_count": 40
        }
      ]
    },
    {
      "cell_type": "code",
      "source": [
        "shikikin, reikin = shikirei.find_all('li')"
      ],
      "metadata": {
        "id": "NkpCd2bCMljp"
      },
      "execution_count": 45,
      "outputs": []
    },
    {
      "cell_type": "code",
      "source": [
        "shikikin.text"
      ],
      "metadata": {
        "colab": {
          "base_uri": "https://localhost:8080/",
          "height": 36
        },
        "id": "Vv1BPCuIM0gL",
        "outputId": "7b265de5-3afb-4546-9023-79a99c606db1"
      },
      "execution_count": 46,
      "outputs": [
        {
          "output_type": "execute_result",
          "data": {
            "text/plain": [
              "'19万円'"
            ],
            "application/vnd.google.colaboratory.intrinsic+json": {
              "type": "string"
            }
          },
          "metadata": {},
          "execution_count": 46
        }
      ]
    },
    {
      "cell_type": "code",
      "source": [
        "reikin.text"
      ],
      "metadata": {
        "colab": {
          "base_uri": "https://localhost:8080/",
          "height": 36
        },
        "id": "8pw1GmYFNEt0",
        "outputId": "cb740a70-0a7b-40e0-af95-3f4a2ce6a43f"
      },
      "execution_count": 47,
      "outputs": [
        {
          "output_type": "execute_result",
          "data": {
            "text/plain": [
              "'19万円'"
            ],
            "application/vnd.google.colaboratory.intrinsic+json": {
              "type": "string"
            }
          },
          "metadata": {},
          "execution_count": 47
        }
      ]
    },
    {
      "cell_type": "code",
      "source": [
        "madori, menseki = capa.find_all('li')"
      ],
      "metadata": {
        "id": "hjZ9eOJdNGOf"
      },
      "execution_count": 48,
      "outputs": []
    },
    {
      "cell_type": "code",
      "source": [
        "madori.text"
      ],
      "metadata": {
        "colab": {
          "base_uri": "https://localhost:8080/",
          "height": 36
        },
        "id": "9DwIi7elNSx3",
        "outputId": "640002d2-96f2-42db-e4c1-a0c6e3c49f1d"
      },
      "execution_count": 49,
      "outputs": [
        {
          "output_type": "execute_result",
          "data": {
            "text/plain": [
              "'2LDK'"
            ],
            "application/vnd.google.colaboratory.intrinsic+json": {
              "type": "string"
            }
          },
          "metadata": {},
          "execution_count": 49
        }
      ]
    },
    {
      "cell_type": "code",
      "source": [
        "menseki.text"
      ],
      "metadata": {
        "colab": {
          "base_uri": "https://localhost:8080/",
          "height": 36
        },
        "id": "y5sL9fEDNUF1",
        "outputId": "5667ce15-8e6a-4b10-b63b-6b9f32795852"
      },
      "execution_count": 50,
      "outputs": [
        {
          "output_type": "execute_result",
          "data": {
            "text/plain": [
              "'65.55m2'"
            ],
            "application/vnd.google.colaboratory.intrinsic+json": {
              "type": "string"
            }
          },
          "metadata": {},
          "execution_count": 50
        }
      ]
    },
    {
      "cell_type": "code",
      "source": [
        "d = {\n",
        "    'title': title,\n",
        "    'adress': adress,\n",
        "    'access': access,\n",
        "    'age': age,\n",
        "    'floor': floor.text,\n",
        "    'yachin': yachin.text,\n",
        "    'kanri': kanri.text,\n",
        "    'shikikin': shikikin.text,\n",
        "    'reikin': reikin.text,\n",
        "    'madori': madori.text,\n",
        "    'menseki': menseki.text\n",
        "}"
      ],
      "metadata": {
        "id": "60Tv35a8NVvo"
      },
      "execution_count": 55,
      "outputs": []
    },
    {
      "cell_type": "code",
      "source": [
        "d\n"
      ],
      "metadata": {
        "colab": {
          "base_uri": "https://localhost:8080/"
        },
        "id": "ch6Pd4RHOimq",
        "outputId": "25373673-2340-43c7-9968-56b92b92d2a6"
      },
      "execution_count": 56,
      "outputs": [
        {
          "output_type": "execute_result",
          "data": {
            "text/plain": [
              "{'title': 'ＪＲ総武線 東中野駅 3階建 築14年',\n",
              " 'adress': '東京都新宿区北新宿４',\n",
              " 'access': '\\nＪＲ総武線/東中野駅 歩5分\\n東京メトロ東西線/落合駅 歩8分\\n都営大江戸線/中井駅 歩15分\\n',\n",
              " 'age': '\\n築14年\\n3階建\\n',\n",
              " 'floor': '\\r\\n\\t\\t\\t\\t\\t\\t\\t\\t\\t\\t\\t3階',\n",
              " 'yachin': '19万円',\n",
              " 'kanri': '-',\n",
              " 'shikikin': '19万円',\n",
              " 'reikin': '19万円',\n",
              " 'madori': '2LDK',\n",
              " 'menseki': '65.55m2'}"
            ]
          },
          "metadata": {},
          "execution_count": 56
        }
      ]
    },
    {
      "cell_type": "code",
      "source": [
        "d_list = []\n",
        "contents = soup.find_all('div', class_='cassetteitem')\n",
        "for content in contents:\n",
        "  ditail = content.find('div', class_='cassetteitem_content')\n",
        "  table = content.find('table', class_='cassetteitem_other')\n",
        "  title = ditail.find('div', class_='cassetteitem_content-title').text\n",
        "  adress = ditail.find('li', class_='cassetteitem_detail-col1').text\n",
        "  access = ditail.find('li', class_='cassetteitem_detail-col2').text\n",
        "  age = ditail.find('li', class_='cassetteitem_detail-col3').text\n",
        "  tr_tags = table.find_all('tr', class_='js-cassette_link')\n",
        "  for tr_tag in tr_tags:\n",
        "    floor, price, shikirei, capa = tr_tag.find_all('td')[2:6]\n",
        "    yachin, kanri = price.find_all('li')\n",
        "    shikikin, reikin = shikirei.find_all('li')\n",
        "    madori, menseki = capa.find_all('li')\n",
        "    d = {\n",
        "      'title': title,\n",
        "      'adress': adress,\n",
        "      'access': access,\n",
        "      'age': age,\n",
        "      'floor': floor.text,\n",
        "      'yachin': yachin.text,\n",
        "      'kanri': kanri.text,\n",
        "      'shikikin': shikikin.text,\n",
        "      'reikin': reikin.text,\n",
        "      'madori': madori.text,\n",
        "      'menseki': menseki.text\n",
        "    }\n",
        "\n",
        "    d_list.append(d)"
      ],
      "metadata": {
        "id": "0mGQ_9hnOlhE"
      },
      "execution_count": 57,
      "outputs": []
    },
    {
      "cell_type": "code",
      "source": [
        "from pprint import pprint"
      ],
      "metadata": {
        "id": "XsBZ80EiTobK"
      },
      "execution_count": 58,
      "outputs": []
    },
    {
      "cell_type": "code",
      "source": [
        "pprint(d_list[0])"
      ],
      "metadata": {
        "colab": {
          "base_uri": "https://localhost:8080/"
        },
        "id": "Ht2IC_ZFT2mS",
        "outputId": "f40b8e90-c271-4e1f-8793-037ae406ee85"
      },
      "execution_count": 60,
      "outputs": [
        {
          "output_type": "stream",
          "name": "stdout",
          "text": [
            "{'access': '\\nＪＲ総武線/東中野駅 歩5分\\n東京メトロ東西線/落合駅 歩8分\\n都営大江戸線/中井駅 歩15分\\n',\n",
            " 'adress': '東京都新宿区北新宿４',\n",
            " 'age': '\\n築14年\\n3階建\\n',\n",
            " 'floor': '\\r\\n\\t\\t\\t\\t\\t\\t\\t\\t\\t\\t\\t3階',\n",
            " 'kanri': '-',\n",
            " 'madori': '2LDK',\n",
            " 'menseki': '65.55m2',\n",
            " 'reikin': '19万円',\n",
            " 'shikikin': '19万円',\n",
            " 'title': 'ＪＲ総武線 東中野駅 3階建 築14年',\n",
            " 'yachin': '19万円'}\n"
          ]
        }
      ]
    },
    {
      "cell_type": "code",
      "source": [
        "pprint(d_list[1])"
      ],
      "metadata": {
        "colab": {
          "base_uri": "https://localhost:8080/"
        },
        "id": "L7EnYLWzT_ka",
        "outputId": "4e3cef37-5d99-4abd-aaec-c1325ea4119f"
      },
      "execution_count": 62,
      "outputs": [
        {
          "output_type": "stream",
          "name": "stdout",
          "text": [
            "{'access': '\\nＪＲ総武線/東中野駅 歩5分\\n東京メトロ東西線/落合駅 歩8分\\n都営大江戸線/中井駅 歩15分\\n',\n",
            " 'adress': '東京都新宿区北新宿４',\n",
            " 'age': '\\n築14年\\n3階建\\n',\n",
            " 'floor': '\\r\\n\\t\\t\\t\\t\\t\\t\\t\\t\\t\\t\\t3階',\n",
            " 'kanri': '-',\n",
            " 'madori': '2SLDK',\n",
            " 'menseki': '65.55m2',\n",
            " 'reikin': '19万円',\n",
            " 'shikikin': '19万円',\n",
            " 'title': 'ＪＲ総武線 東中野駅 3階建 築14年',\n",
            " 'yachin': '19万円'}\n"
          ]
        }
      ]
    },
    {
      "cell_type": "code",
      "source": [
        "pprint(d_list[10])"
      ],
      "metadata": {
        "colab": {
          "base_uri": "https://localhost:8080/"
        },
        "id": "wud5LRKDUJte",
        "outputId": "d174476e-5328-4c81-b31d-244fe0fe81f7"
      },
      "execution_count": 63,
      "outputs": [
        {
          "output_type": "stream",
          "name": "stdout",
          "text": [
            "{'access': '\\n都営新宿線/曙橋駅 歩4分\\n都営大江戸線/若松河田駅 歩6分\\n東京メトロ丸ノ内線/四谷三丁目駅 歩15分\\n',\n",
            " 'adress': '東京都新宿区河田町',\n",
            " 'age': '\\n築22年\\n8階建\\n',\n",
            " 'floor': '\\r\\n\\t\\t\\t\\t\\t\\t\\t\\t\\t\\t\\t6階',\n",
            " 'kanri': '10000円',\n",
            " 'madori': '4DK',\n",
            " 'menseki': '70.57m2',\n",
            " 'reikin': '28.57万円',\n",
            " 'shikikin': '-',\n",
            " 'title': '河田町ガーデン 3号棟',\n",
            " 'yachin': '28.57万円'}\n"
          ]
        }
      ]
    },
    {
      "cell_type": "code",
      "source": [],
      "metadata": {
        "id": "G7ieRd3uUSm5"
      },
      "execution_count": null,
      "outputs": []
    }
  ]
}