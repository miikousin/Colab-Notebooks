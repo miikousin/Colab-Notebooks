{
  "nbformat": 4,
  "nbformat_minor": 0,
  "metadata": {
    "colab": {
      "provenance": [],
      "authorship_tag": "ABX9TyPSCrDAVXehy2wJ0VMti6Ll",
      "include_colab_link": true
    },
    "kernelspec": {
      "name": "python3",
      "display_name": "Python 3"
    },
    "language_info": {
      "name": "python"
    }
  },
  "cells": [
    {
      "cell_type": "markdown",
      "metadata": {
        "id": "view-in-github",
        "colab_type": "text"
      },
      "source": [
        "<a href=\"https://colab.research.google.com/github/miikousin/Colab-Notebooks/blob/main/Untitled1.ipynb\" target=\"_parent\"><img src=\"https://colab.research.google.com/assets/colab-badge.svg\" alt=\"Open In Colab\"/></a>"
      ]
    },
    {
      "cell_type": "code",
      "execution_count": 1,
      "metadata": {
        "id": "Zr24TaSMR4l0"
      },
      "outputs": [],
      "source": [
        "from bs4 import BeautifulSoup\n",
        "import requests"
      ]
    },
    {
      "cell_type": "code",
      "source": [
        "url = 'https://suumo.jp/chintai/tokyo/sc_shinjuku/?page=1'\n",
        "target_url = url.format(1)"
      ],
      "metadata": {
        "id": "l0gr1CiiSBlU"
      },
      "execution_count": 13,
      "outputs": []
    },
    {
      "cell_type": "code",
      "source": [
        "print(target_url)"
      ],
      "metadata": {
        "colab": {
          "base_uri": "https://localhost:8080/"
        },
        "id": "FngdNhFJSwo7",
        "outputId": "eb610924-da3a-41b5-e79e-ca4df075f61d"
      },
      "execution_count": 14,
      "outputs": [
        {
          "output_type": "stream",
          "name": "stdout",
          "text": [
            "https://suumo.jp/chintai/tokyo/sc_shinjuku/?page=1\n"
          ]
        }
      ]
    },
    {
      "cell_type": "code",
      "source": [
        "r = requests.get(target_url)\n",
        "soup = BeautifulSoup(r.text)"
      ],
      "metadata": {
        "id": "E_9ycbiYS21_"
      },
      "execution_count": 15,
      "outputs": []
    },
    {
      "cell_type": "code",
      "source": [
        "contents = soup.find_all('div', class_='cassetteitem')"
      ],
      "metadata": {
        "id": "UwfLT9-ZTOCi"
      },
      "execution_count": 16,
      "outputs": []
    },
    {
      "cell_type": "code",
      "source": [
        "len(contents)"
      ],
      "metadata": {
        "colab": {
          "base_uri": "https://localhost:8080/"
        },
        "id": "NkU5zvi0UOL7",
        "outputId": "3667de16-76f7-4b61-8645-2914babad927"
      },
      "execution_count": 17,
      "outputs": [
        {
          "output_type": "execute_result",
          "data": {
            "text/plain": [
              "20"
            ]
          },
          "metadata": {},
          "execution_count": 17
        }
      ]
    },
    {
      "cell_type": "code",
      "source": [
        "content = contents[0]"
      ],
      "metadata": {
        "id": "u-ImzdjKU5fQ"
      },
      "execution_count": 18,
      "outputs": []
    },
    {
      "cell_type": "code",
      "source": [
        "adress = content.find('li', class_='cassetteitem_detail-col1')"
      ],
      "metadata": {
        "id": "F_DmQxs2VswV"
      },
      "execution_count": 49,
      "outputs": []
    },
    {
      "cell_type": "code",
      "source": [
        "adress.text\n"
      ],
      "metadata": {
        "colab": {
          "base_uri": "https://localhost:8080/",
          "height": 36
        },
        "id": "wwYqU3F0WaBP",
        "outputId": "98cc26eb-0dd9-4e1a-b137-41f1694f2a37"
      },
      "execution_count": 38,
      "outputs": [
        {
          "output_type": "execute_result",
          "data": {
            "text/plain": [
              "'東京都新宿区西新宿４'"
            ],
            "application/vnd.google.colaboratory.intrinsic+json": {
              "type": "string"
            }
          },
          "metadata": {},
          "execution_count": 38
        }
      ]
    },
    {
      "cell_type": "code",
      "source": [],
      "metadata": {
        "id": "KXmH6nnQWZ6z"
      },
      "execution_count": null,
      "outputs": []
    },
    {
      "cell_type": "code",
      "source": [
        "access = content.find('li', class_='cassetteitem_detail-col2')\n",
        "age = content.find('li', class_='cassetteitem_detail-col3')"
      ],
      "metadata": {
        "id": "Vw_galPPWE6V"
      },
      "execution_count": 44,
      "outputs": []
    },
    {
      "cell_type": "code",
      "source": [
        "print(access)"
      ],
      "metadata": {
        "colab": {
          "base_uri": "https://localhost:8080/"
        },
        "id": "jy-29eaJWPT1",
        "outputId": "a4f72061-e624-41b8-8049-12e01c5f3e7d"
      },
      "execution_count": 43,
      "outputs": [
        {
          "output_type": "stream",
          "name": "stdout",
          "text": [
            "None\n"
          ]
        }
      ]
    },
    {
      "cell_type": "code",
      "source": [
        "ditail = content.find('div', class_='cassetteitem_content')"
      ],
      "metadata": {
        "id": "fYbcI3c9WT1w"
      },
      "execution_count": 55,
      "outputs": []
    },
    {
      "cell_type": "code",
      "source": [
        "table = content.find('table', class_='cassetteitem_other')"
      ],
      "metadata": {
        "id": "__7M9_WoYZDn"
      },
      "execution_count": 70,
      "outputs": []
    },
    {
      "cell_type": "code",
      "source": [
        "title = ditail.find('div', class_='cassetteitem_content-title').text"
      ],
      "metadata": {
        "id": "yM-ai9RkVSL4"
      },
      "execution_count": 60,
      "outputs": []
    },
    {
      "cell_type": "code",
      "source": [
        "adress = ditail.find('li', class_='cassetteitem_detail-col1').text"
      ],
      "metadata": {
        "id": "8tnV6sA-ZLvo"
      },
      "execution_count": 61,
      "outputs": []
    },
    {
      "cell_type": "code",
      "source": [
        "access = ditail.find('li', class_='cassetteitem_detail-col2').text"
      ],
      "metadata": {
        "id": "qyLOwpK3aBri"
      },
      "execution_count": 62,
      "outputs": []
    },
    {
      "cell_type": "code",
      "source": [
        "age = ditail.find('li', class_='cassetteitem_detail-col3').text"
      ],
      "metadata": {
        "id": "Wknl_JvcaF-A"
      },
      "execution_count": 63,
      "outputs": []
    },
    {
      "cell_type": "code",
      "source": [
        "title, adress, access, age"
      ],
      "metadata": {
        "colab": {
          "base_uri": "https://localhost:8080/"
        },
        "id": "T9jpF5k7aJhd",
        "outputId": "1124b34f-1074-43e9-8af4-697a1a189589"
      },
      "execution_count": 64,
      "outputs": [
        {
          "output_type": "execute_result",
          "data": {
            "text/plain": [
              "('都営大江戸線 西新宿五丁目駅 3階建 築29年',\n",
              " '東京都新宿区西新宿４',\n",
              " '\\n都営大江戸線/西新宿五丁目駅 歩5分\\n京王新線/初台駅 歩12分\\n東京メトロ丸ノ内線/西新宿駅 歩17分\\n',\n",
              " '\\n築29年\\n3階建\\n')"
            ]
          },
          "metadata": {},
          "execution_count": 64
        }
      ]
    },
    {
      "cell_type": "code",
      "source": [
        "tr_tags = table.find_all('tr', class_='js-cassette_link')"
      ],
      "metadata": {
        "id": "xtgCgzZSa_Id"
      },
      "execution_count": 71,
      "outputs": []
    },
    {
      "cell_type": "code",
      "source": [
        "tr_tag = tr_tags[0]"
      ],
      "metadata": {
        "id": "HvqQ0lt1bXf_"
      },
      "execution_count": 72,
      "outputs": []
    },
    {
      "cell_type": "code",
      "source": [],
      "metadata": {
        "id": "HuQXSkg6bjs3"
      },
      "execution_count": null,
      "outputs": []
    }
  ]
}