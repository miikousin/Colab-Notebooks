{
  "nbformat": 4,
  "nbformat_minor": 0,
  "metadata": {
    "colab": {
      "provenance": [],
      "authorship_tag": "ABX9TyOFUfiyb5GmZwMiZfcDBHb5",
      "include_colab_link": true
    },
    "kernelspec": {
      "name": "python3",
      "display_name": "Python 3"
    },
    "language_info": {
      "name": "python"
    }
  },
  "cells": [
    {
      "cell_type": "markdown",
      "metadata": {
        "id": "view-in-github",
        "colab_type": "text"
      },
      "source": [
        "<a href=\"https://colab.research.google.com/github/miikousin/Colab-Notebooks/blob/main/Flask_app.ipynb\" target=\"_parent\"><img src=\"https://colab.research.google.com/assets/colab-badge.svg\" alt=\"Open In Colab\"/></a>"
      ]
    },
    {
      "cell_type": "code",
      "execution_count": 1,
      "metadata": {
        "colab": {
          "base_uri": "https://localhost:8080/"
        },
        "id": "nd1Wv9UegkXr",
        "outputId": "b7f6e92c-616b-4682-d4b6-3437c0a7dfc3"
      },
      "outputs": [
        {
          "output_type": "stream",
          "name": "stdout",
          "text": [
            " * Serving Flask app '__main__'\n",
            " * Debug mode: on\n"
          ]
        },
        {
          "output_type": "stream",
          "name": "stderr",
          "text": [
            "INFO:werkzeug:\u001b[31m\u001b[1mWARNING: This is a development server. Do not use it in a production deployment. Use a production WSGI server instead.\u001b[0m\n",
            " * Running on http://127.0.0.1:5000\n",
            "INFO:werkzeug:\u001b[33mPress CTRL+C to quit\u001b[0m\n",
            "INFO:werkzeug: * Restarting with stat\n"
          ]
        }
      ],
      "source": [
        "from flask import Flask, render_template, request, redirect, url_for\n",
        "\n",
        "app = Flask(__name__)\n",
        "\n",
        "# 仮のTodoリストを作成します\n",
        "todos = []\n",
        "\n",
        "# Todoリストの画面を表示します。\n",
        "@app.route('/')\n",
        "def index():\n",
        "    return render_template('index.html', todos=todos)\n",
        "\n",
        "# 追加されたTodoをTodoリストに加えます。\n",
        "@app.route('/add', methods=['POST'])\n",
        "def add_todo():\n",
        "    todo = request.form.get('todo')\n",
        "    todos.append(todo)\n",
        "    return redirect(url_for('index'))\n",
        "\n",
        "# Todoの編集画面を表示します。\n",
        "@app.route('/edit/<int:todo_id>')\n",
        "def edit_todo(todo_id):\n",
        "    # Todoがあるときは編集画面に、そうではないときはTodoリストへ画面遷移します。\n",
        "    if 1 <= todo_id <= len(todos):\n",
        "        return render_template('edit.html', todo=todos[todo_id - 1], todo_id=todo_id)\n",
        "    else:\n",
        "        return redirect(url_for('index'))\n",
        "\n",
        "# Todoが更新されたときの処理です。\n",
        "@app.route('/update/<int:todo_id>', methods=['POST'])\n",
        "def update_todo(todo_id):\n",
        "    # 変更されたTodoがある場合はTodoリストに追加する。\n",
        "    if 1 <= todo_id <= len(todos):\n",
        "        todo = request.form.get('todo')\n",
        "        todos[todo_id - 1] = todo\n",
        "    return redirect(url_for('index'))\n",
        "\n",
        "# Todoが削除されたときの処理です。\n",
        "@app.route('/delete/<int:todo_id>')\n",
        "def delete_todo(todo_id):\n",
        "    # Todoがあるときは削除する。\n",
        "    if 1 <= todo_id <= len(todos):\n",
        "        del todos[todo_id - 1]\n",
        "    return redirect(url_for('index'))\n",
        "\n",
        "# アプリを実行する処理です。\n",
        "if __name__ == '__main__':\n",
        "    app.run(debug=True)"
      ]
    },
    {
      "cell_type": "code",
      "source": [],
      "metadata": {
        "id": "lMsNIwIQgp7w"
      },
      "execution_count": null,
      "outputs": []
    }
  ]
}