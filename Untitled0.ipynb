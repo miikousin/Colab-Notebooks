{
  "nbformat": 4,
  "nbformat_minor": 0,
  "metadata": {
    "colab": {
      "provenance": [],
      "authorship_tag": "ABX9TyOeLEOKkNmoq3JkPklsLD/b",
      "include_colab_link": true
    },
    "kernelspec": {
      "name": "python3",
      "display_name": "Python 3"
    },
    "language_info": {
      "name": "python"
    }
  },
  "cells": [
    {
      "cell_type": "markdown",
      "metadata": {
        "id": "view-in-github",
        "colab_type": "text"
      },
      "source": [
        "<a href=\"https://colab.research.google.com/github/miikousin/Colab-Notebooks/blob/main/Untitled0.ipynb\" target=\"_parent\"><img src=\"https://colab.research.google.com/assets/colab-badge.svg\" alt=\"Open In Colab\"/></a>"
      ]
    },
    {
      "cell_type": "code",
      "execution_count": 4,
      "metadata": {
        "id": "4Qj3FeYf2E_I"
      },
      "outputs": [],
      "source": [
        "from bs4 import BeautifulSoup\n",
        "import requests"
      ]
    },
    {
      "cell_type": "code",
      "source": [
        "url = 'https://suumo.jp/chintai/tokyo/sc_shinjuku/?page={}'\n",
        "target_url = url.format(1)\n",
        "print(target_url)"
      ],
      "metadata": {
        "colab": {
          "base_uri": "https://localhost:8080/"
        },
        "id": "Hn2311zG2RJF",
        "outputId": "c4c250e0-c16e-4ab7-a6b5-f278cc20d349"
      },
      "execution_count": 5,
      "outputs": [
        {
          "output_type": "stream",
          "name": "stdout",
          "text": [
            "https://suumo.jp/chintai/tokyo/sc_shinjuku/?page=1\n"
          ]
        }
      ]
    },
    {
      "cell_type": "code",
      "source": [
        "r = requests.get(target_url)\n",
        "soup = BeautifulSoup(r.text)"
      ],
      "metadata": {
        "id": "xq3Qsj193jj0"
      },
      "execution_count": 6,
      "outputs": []
    },
    {
      "cell_type": "code",
      "source": [
        "contents = soup.find_all('div', class_='cassetteitem')"
      ],
      "metadata": {
        "id": "18aa5iJY4dvp"
      },
      "execution_count": 7,
      "outputs": []
    },
    {
      "cell_type": "code",
      "source": [
        "len(contents)"
      ],
      "metadata": {
        "colab": {
          "base_uri": "https://localhost:8080/"
        },
        "id": "ZdUDo1tB50lc",
        "outputId": "af71b8b0-3ae4-40a9-f9da-672545b65732"
      },
      "execution_count": 8,
      "outputs": [
        {
          "output_type": "execute_result",
          "data": {
            "text/plain": [
              "20"
            ]
          },
          "metadata": {},
          "execution_count": 8
        }
      ]
    },
    {
      "cell_type": "code",
      "source": [
        "content = contents[0]\n",
        "print(content)"
      ],
      "metadata": {
        "colab": {
          "base_uri": "https://localhost:8080/"
        },
        "id": "5BV885ep56-C",
        "outputId": "38db51b6-7df3-4cf1-9f69-22a3166da25e"
      },
      "execution_count": 9,
      "outputs": [
        {
          "output_type": "stream",
          "name": "stdout",
          "text": [
            "<div class=\"cassetteitem\">\n",
            "<div class=\"cassetteitem-detail\">\n",
            "<div class=\"cassetteitem-detail-object\">\n",
            "<div class=\"cassetteitem_object\">\n",
            "<div class=\"cassetteitem_object-item\">\n",
            "<img alt=\"\" class=\"js-noContextMenu js-linkImage js-scrollLazy js-adjustImg\" height=\"0\" rel=\"https://img01.suumo.com/front/gazo/fr/bukken/307/100390208307/100390208307_gw.jpg\" src=\"data:image/gif;base64,R0lGODlhAQABAIAAAAAAAAAAACH5BAEAAAAALAAAAAABAAEAAAICRAEAOw%3D%3D\" width=\"0\"/>\n",
            "</div>\n",
            "</div>\n",
            "</div>\n",
            "<div class=\"cassetteitem-detail-body\">\n",
            "<div class=\"cassetteitem_content\">\n",
            "<div class=\"cassetteitem_content-label\"><span class=\"ui-pct ui-pct--util1\">賃貸一戸建て</span></div>\n",
            "<div class=\"cassetteitem_content-title\">都営大江戸線 西新宿五丁目駅 3階建 築29年</div>\n",
            "<div class=\"cassetteitem_content-body\">\n",
            "<ul class=\"cassetteitem_detail\">\n",
            "<li class=\"cassetteitem_detail-col1\">東京都新宿区西新宿４</li>\n",
            "<li class=\"cassetteitem_detail-col2\">\n",
            "<div class=\"cassetteitem_detail-text\">都営大江戸線/西新宿五丁目駅 歩5分</div>\n",
            "<div class=\"cassetteitem_detail-text\">京王新線/初台駅 歩12分</div>\n",
            "<div class=\"cassetteitem_detail-text\">東京メトロ丸ノ内線/西新宿駅 歩17分</div>\n",
            "</li>\n",
            "<li class=\"cassetteitem_detail-col3\">\n",
            "<div>築29年</div>\n",
            "<div>3階建</div>\n",
            "</li>\n",
            "</ul>\n",
            "</div>\n",
            "</div>\n",
            "</div>\n",
            "</div>\n",
            "<div class=\"cassetteitem-item\">\n",
            "<table class=\"cassetteitem_other\">\n",
            "<thead>\n",
            "<tr>\n",
            "<th class=\"cassetteitem_other-col01\"> </th>\n",
            "<th class=\"cassetteitem_other-col02\"> </th>\n",
            "<th class=\"cassetteitem_other-col03\">階</th>\n",
            "<th class=\"cassetteitem_other-col04\">賃料/管理費</th>\n",
            "<th class=\"cassetteitem_other-col05\">敷金/礼金</th>\n",
            "<th class=\"cassetteitem_other-col06\">間取り/専有面積</th>\n",
            "<th class=\"cassetteitem_other-col07\"> </th>\n",
            "<th class=\"cassetteitem_other-col08\">お気に入り</th>\n",
            "<th class=\"cassetteitem_other-col09\"> </th>\n",
            "</tr>\n",
            "</thead>\n",
            "<tbody>\n",
            "<tr class=\"js-cassette_link\">\n",
            "<td class=\"cassetteitem_other-checkbox cassetteitem_other-checkbox--newarrival js-cassetteitem_checkbox\">\n",
            "<input class=\"js-ikkatsuCB js-single_checkbox\" id=\"bukken_0\" name=\"bc\" type=\"checkbox\" value=\"100390208307\"/><label for=\"bc\"> </label>\n",
            "</td>\n",
            "<td>\n",
            "<div class=\"casssetteitem_other-thumbnail js-view_gallery_images js-noContextMenu\" data-imgs=\"https://img01.suumo.com/front/gazo/fr/bukken/307/100390208307/100390208307_go.jpg,https://img01.suumo.com/front/gazo/fr/bukken/307/100390208307/100390208307_co.jpg,https://img01.suumo.com/front/gazo/fr/bukken/307/100390208307/100390208307_ro.jpg,https://img01.suumo.com/front/gazo/fr/bukken/307/100390208307/100390208307_3o.jpg,https://img01.suumo.com/front/gazo/fr/bukken/307/100390208307/100390208307_4o.jpg,https://img01.suumo.com/front/gazo/fr/bukken/307/100390208307/100390208307_2o.jpg,https://img01.suumo.com/front/gazo/fr/bukken/307/100390208307/100390208307_1o.jpg,https://img01.suumo.com/front/gazo/fr/bukken/307/100390208307/100390208307_6o.jpg,https://img01.suumo.com/front/gazo/fr/bukken/307/100390208307/100390208307_5o.jpg,https://img01.suumo.com/front/gazo/fr/bukken/307/100390208307/100390208307_s1o.jpg,https://img01.suumo.com/front/gazo/fr/bukken/307/100390208307/100390208307_s2o.jpg,https://img01.suumo.com/front/gazo/fr/bukken/307/100390208307/100390208307_s3o.jpg,https://img01.suumo.com/front/gazo/fr/bukken/307/100390208307/100390208307_s4o.jpg,https://img01.suumo.com/front/gazo/fr/bukken/307/100390208307/100390208307_s6o.jpg,https://img01.suumo.com/front/gazo/fr/bukken/307/100390208307/100390208307_7o.jpg,https://img01.suumo.com/front/gazo/fr/bukken/307/100390208307/100390208307_s5o.jpg\">\n",
            "<img alt=\"\" class=\"casssetteitem_other-thumbnail-img casssetteitem_other-thumbnail-img--hasimages js-view_gallery-modal js-scrollLazy\" rel=\"https://img01.suumo.com/front/gazo/fr/bukken/307/100390208307/100390208307_co.jpg\" src=\"data:image/gif;base64,R0lGODlhAQABAIAAAAAAAAAAACH5BAEAAAAALAAAAAABAAEAAAICRAEAOw%3D%3D\"/>\n",
            "<span class=\"cassetteitem_other-thumbnail-expansion js-view_gallery-modal\"></span>\n",
            "</div>\n",
            "</td>\n",
            "<td>\r\n",
            "\t\t\t\t\t\t\t\t\t\t\t1-3階</td>\n",
            "<td>\n",
            "<ul>\n",
            "<li><span class=\"cassetteitem_price cassetteitem_price--rent\"><span class=\"cassetteitem_other-emphasis ui-text--bold\">50万円</span></span></li>\n",
            "<li><span class=\"cassetteitem_price cassetteitem_price--administration\">-</span></li>\n",
            "</ul>\n",
            "</td>\n",
            "<td>\n",
            "<ul>\n",
            "<li><span class=\"cassetteitem_price cassetteitem_price--deposit\">50万円</span></li>\n",
            "<li><span class=\"cassetteitem_price cassetteitem_price--gratuity\">25万円</span></li>\n",
            "</ul>\n",
            "</td>\n",
            "<td>\n",
            "<ul>\n",
            "<li><span class=\"cassetteitem_madori\">7LDK</span></li>\n",
            "<li><span class=\"cassetteitem_menseki\">130.47m<sup>2</sup></span></li>\n",
            "</ul>\n",
            "</td>\n",
            "<td>\n",
            "<ul class=\"cassetteitem-taglist\">\n",
            "</ul>\n",
            "</td>\n",
            "<td class=\"js-property\">\n",
            "<input class=\"js-clipkey\" type=\"hidden\" value=\"100390208307\"/>\n",
            "<a class=\"ui-btn ui-favorite cassette_favorite cassette_favorite--sm js-addMyList js-linkSuppresser\" href=\"javascript:void(0);\">\n",
            "<span class=\"ui-favorite-icon cassette_favorite-icon\"><span class=\"fr_list-eachicon fr_list-eachicon--favorite\"></span></span>\n",
            "<span class=\"ui-favorite-text\">追加</span>\n",
            "<span class=\"ui-favorite-icon_add cassette_favorite-icon_add\"><span class=\"fr_list-eachicon fr_list-eachicon--favorite_add\"></span></span>\n",
            "<span class=\"ui-favorite-text_add\">追加</span>\n",
            "</a>\n",
            "</td>\n",
            "<td class=\"ui-text--midium ui-text--bold\">\n",
            "<a class=\"js-cassette_link_href cassetteitem_other-linktext\" href=\"/chintai/jnc_000076081421/?bc=100390208307\" onclick=\"sendBeaconSiteCatalystClick(event,this,'click_casset_bkn_link',false);\" target=\"_blank\">詳細を見る</a><button class=\"js-kobetsuShiryoSeikyu cassetteitem_other-inquiry_button\" type=\"button\">\r\n",
            "\t\t\t\t\t\t\t\t\t\t\t\tお問い合わせ\r\n",
            "\t\t\t\t\t\t\t\t\t\t\t\t\t<span class=\"cassetteitem_other-inquiry_text\">(無料)</span>\n",
            "</button>\n",
            "</td>\n",
            "</tr>\n",
            "</tbody>\n",
            "</table>\n",
            "</div>\n",
            "</div>\n"
          ]
        }
      ]
    },
    {
      "cell_type": "code",
      "source": [
        "ditail = content.find('div', class_='cassetteitem-detail')\n",
        "table = content.find('table', class_='cassetteitem_other')"
      ],
      "metadata": {
        "id": "OrANklt-6M7J"
      },
      "execution_count": 10,
      "outputs": []
    },
    {
      "cell_type": "code",
      "source": [
        "title = ditail.find('div', class_='cassetteitem_content-title').text\n",
        "adress = ditail.find('li', class_='cassetteitem_detail-col1').text\n",
        "access = ditail.find('li', class_='cassetteitem_detail-col2').text\n",
        "age = ditail.find('li', class_='cassetteitem_detail-col3').text"
      ],
      "metadata": {
        "id": "nzC5npaxAOkm"
      },
      "execution_count": 11,
      "outputs": []
    },
    {
      "cell_type": "code",
      "source": [
        "print(title)\n",
        "print(adress)\n",
        "print(access)\n",
        "print(age)"
      ],
      "metadata": {
        "colab": {
          "base_uri": "https://localhost:8080/"
        },
        "id": "gkX26TWSCCSW",
        "outputId": "574af820-9cd0-413f-c234-f7174c6e40eb"
      },
      "execution_count": 12,
      "outputs": [
        {
          "output_type": "stream",
          "name": "stdout",
          "text": [
            "都営大江戸線 西新宿五丁目駅 3階建 築29年\n",
            "東京都新宿区西新宿４\n",
            "\n",
            "都営大江戸線/西新宿五丁目駅 歩5分\n",
            "京王新線/初台駅 歩12分\n",
            "東京メトロ丸ノ内線/西新宿駅 歩17分\n",
            "\n",
            "\n",
            "築29年\n",
            "3階建\n",
            "\n"
          ]
        }
      ]
    },
    {
      "cell_type": "code",
      "source": [
        "tr_tags = table.find_all('tr', class_='js-cassette_link')\n",
        "tr_tag = tr_tags[0]"
      ],
      "metadata": {
        "id": "kb8Iahu7CJny"
      },
      "execution_count": 13,
      "outputs": []
    },
    {
      "cell_type": "code",
      "source": [
        "price = tr_tag.find('ul').text"
      ],
      "metadata": {
        "id": "vx1eHIviDvcl"
      },
      "execution_count": 14,
      "outputs": []
    },
    {
      "cell_type": "code",
      "source": [
        "price"
      ],
      "metadata": {
        "colab": {
          "base_uri": "https://localhost:8080/",
          "height": 36
        },
        "id": "pj6UfDmOFItV",
        "outputId": "a291b772-4386-449b-e864-ebc77356b90d"
      },
      "execution_count": 24,
      "outputs": [
        {
          "output_type": "execute_result",
          "data": {
            "text/plain": [
              "'\\n15.5万円\\n10000円\\n'"
            ],
            "application/vnd.google.colaboratory.intrinsic+json": {
              "type": "string"
            }
          },
          "metadata": {},
          "execution_count": 24
        }
      ]
    },
    {
      "cell_type": "code",
      "source": [
        "floor = tr_tag.find('td').text"
      ],
      "metadata": {
        "id": "CnsKzEpdFJ45"
      },
      "execution_count": 25,
      "outputs": []
    },
    {
      "cell_type": "code",
      "source": [
        "floor"
      ],
      "metadata": {
        "colab": {
          "base_uri": "https://localhost:8080/",
          "height": 36
        },
        "id": "NG-f8mP9FsFv",
        "outputId": "e8d16c89-c813-4469-b550-63bffa9c18e1"
      },
      "execution_count": 26,
      "outputs": [
        {
          "output_type": "execute_result",
          "data": {
            "text/plain": [
              "'\\n\\xa0\\n'"
            ],
            "application/vnd.google.colaboratory.intrinsic+json": {
              "type": "string"
            }
          },
          "metadata": {},
          "execution_count": 26
        }
      ]
    },
    {
      "cell_type": "code",
      "source": [
        "madori = tr_tag.find('span', class_='cassetteitem_madori').text"
      ],
      "metadata": {
        "id": "8QpC_RqAFtJN"
      },
      "execution_count": 27,
      "outputs": []
    },
    {
      "cell_type": "code",
      "source": [
        "madori"
      ],
      "metadata": {
        "colab": {
          "base_uri": "https://localhost:8080/",
          "height": 36
        },
        "id": "2FDOYPkRGThW",
        "outputId": "ca8f6278-30bf-4ae0-cd1b-7d5e87c1de06"
      },
      "execution_count": 28,
      "outputs": [
        {
          "output_type": "execute_result",
          "data": {
            "text/plain": [
              "'1LDK'"
            ],
            "application/vnd.google.colaboratory.intrinsic+json": {
              "type": "string"
            }
          },
          "metadata": {},
          "execution_count": 28
        }
      ]
    },
    {
      "cell_type": "code",
      "source": [
        " menseki = tr_tag.find('span', class_='cassetteitem_menseki').text\n"
      ],
      "metadata": {
        "id": "VTokh3XWGUs4"
      },
      "execution_count": 29,
      "outputs": []
    },
    {
      "cell_type": "code",
      "source": [
        "menseki"
      ],
      "metadata": {
        "colab": {
          "base_uri": "https://localhost:8080/",
          "height": 36
        },
        "id": "8qCDaVD7Gii0",
        "outputId": "e5cc355c-2987-4103-e167-026799db30dd"
      },
      "execution_count": 30,
      "outputs": [
        {
          "output_type": "execute_result",
          "data": {
            "text/plain": [
              "'35.55m2'"
            ],
            "application/vnd.google.colaboratory.intrinsic+json": {
              "type": "string"
            }
          },
          "metadata": {},
          "execution_count": 30
        }
      ]
    },
    {
      "cell_type": "code",
      "source": [
        "floor, price, first_fee, capa = tr_tag.find_all('td')[2:6]"
      ],
      "metadata": {
        "id": "d6YW4uThGkCh"
      },
      "execution_count": 15,
      "outputs": []
    },
    {
      "cell_type": "code",
      "source": [
        "floor, price, first_fee, capa = tr_tag.find_all('td')[2:6]"
      ],
      "metadata": {
        "id": "jis5DCr5JEsu"
      },
      "execution_count": 17,
      "outputs": []
    },
    {
      "cell_type": "code",
      "source": [
        "floor, price, first_fee, capa"
      ],
      "metadata": {
        "colab": {
          "base_uri": "https://localhost:8080/"
        },
        "id": "p-HrYPFgLYK_",
        "outputId": "65cd4a0b-2651-4774-ecaf-0b96242d11b9"
      },
      "execution_count": 18,
      "outputs": [
        {
          "output_type": "execute_result",
          "data": {
            "text/plain": [
              "(<td>\n",
              " \t\t\t\t\t\t\t\t\t\t\t1-3階</td>,\n",
              " <td>\n",
              " <ul>\n",
              " <li><span class=\"cassetteitem_price cassetteitem_price--rent\"><span class=\"cassetteitem_other-emphasis ui-text--bold\">50万円</span></span></li>\n",
              " <li><span class=\"cassetteitem_price cassetteitem_price--administration\">-</span></li>\n",
              " </ul>\n",
              " </td>,\n",
              " <td>\n",
              " <ul>\n",
              " <li><span class=\"cassetteitem_price cassetteitem_price--deposit\">50万円</span></li>\n",
              " <li><span class=\"cassetteitem_price cassetteitem_price--gratuity\">25万円</span></li>\n",
              " </ul>\n",
              " </td>,\n",
              " <td>\n",
              " <ul>\n",
              " <li><span class=\"cassetteitem_madori\">7LDK</span></li>\n",
              " <li><span class=\"cassetteitem_menseki\">130.47m<sup>2</sup></span></li>\n",
              " </ul>\n",
              " </td>)"
            ]
          },
          "metadata": {},
          "execution_count": 18
        }
      ]
    },
    {
      "cell_type": "code",
      "source": [
        "rent, admin = price.find_all('li')"
      ],
      "metadata": {
        "id": "eGR2JN0iJy-D"
      },
      "execution_count": 22,
      "outputs": []
    },
    {
      "cell_type": "code",
      "source": [
        "rent.text"
      ],
      "metadata": {
        "colab": {
          "base_uri": "https://localhost:8080/",
          "height": 36
        },
        "id": "vuyJ65TZLyTZ",
        "outputId": "169c71df-b608-4af7-9d1b-ad0f0e57a388"
      },
      "execution_count": 23,
      "outputs": [
        {
          "output_type": "execute_result",
          "data": {
            "text/plain": [
              "'50万円'"
            ],
            "application/vnd.google.colaboratory.intrinsic+json": {
              "type": "string"
            }
          },
          "metadata": {},
          "execution_count": 23
        }
      ]
    },
    {
      "cell_type": "code",
      "source": [
        "admin.text"
      ],
      "metadata": {
        "colab": {
          "base_uri": "https://localhost:8080/",
          "height": 36
        },
        "id": "gzlXnMVIL1AK",
        "outputId": "a8b15c1a-25e6-469d-97d7-12ba795de39c"
      },
      "execution_count": 24,
      "outputs": [
        {
          "output_type": "execute_result",
          "data": {
            "text/plain": [
              "'-'"
            ],
            "application/vnd.google.colaboratory.intrinsic+json": {
              "type": "string"
            }
          },
          "metadata": {},
          "execution_count": 24
        }
      ]
    },
    {
      "cell_type": "code",
      "source": [
        "deposit, gratuity = first_fee.find_all('li')"
      ],
      "metadata": {
        "id": "2dl6sPH0L-wi"
      },
      "execution_count": 25,
      "outputs": []
    },
    {
      "cell_type": "code",
      "source": [
        "deposit.text"
      ],
      "metadata": {
        "colab": {
          "base_uri": "https://localhost:8080/",
          "height": 36
        },
        "id": "NPC-3H7SMN-e",
        "outputId": "c42e1e89-9315-48ec-ce5b-e67f07971b53"
      },
      "execution_count": 26,
      "outputs": [
        {
          "output_type": "execute_result",
          "data": {
            "text/plain": [
              "'50万円'"
            ],
            "application/vnd.google.colaboratory.intrinsic+json": {
              "type": "string"
            }
          },
          "metadata": {},
          "execution_count": 26
        }
      ]
    },
    {
      "cell_type": "code",
      "source": [
        "gratuity.text"
      ],
      "metadata": {
        "colab": {
          "base_uri": "https://localhost:8080/",
          "height": 36
        },
        "id": "QXvWu0aCMQZa",
        "outputId": "9f06e40c-d010-4427-9fae-204860c35090"
      },
      "execution_count": 27,
      "outputs": [
        {
          "output_type": "execute_result",
          "data": {
            "text/plain": [
              "'25万円'"
            ],
            "application/vnd.google.colaboratory.intrinsic+json": {
              "type": "string"
            }
          },
          "metadata": {},
          "execution_count": 27
        }
      ]
    },
    {
      "cell_type": "code",
      "source": [
        "madori, menseki = capa.find_all('li')"
      ],
      "metadata": {
        "id": "UvpWNcWSMUHO"
      },
      "execution_count": 28,
      "outputs": []
    },
    {
      "cell_type": "code",
      "source": [
        "madori.text"
      ],
      "metadata": {
        "colab": {
          "base_uri": "https://localhost:8080/",
          "height": 36
        },
        "id": "lIB4P9xYMbLO",
        "outputId": "ff6e4eed-848b-4c21-9c27-7ddad3169d34"
      },
      "execution_count": 29,
      "outputs": [
        {
          "output_type": "execute_result",
          "data": {
            "text/plain": [
              "'7LDK'"
            ],
            "application/vnd.google.colaboratory.intrinsic+json": {
              "type": "string"
            }
          },
          "metadata": {},
          "execution_count": 29
        }
      ]
    },
    {
      "cell_type": "code",
      "source": [
        "menseki.text"
      ],
      "metadata": {
        "colab": {
          "base_uri": "https://localhost:8080/",
          "height": 36
        },
        "id": "8fTY0FnCMc9W",
        "outputId": "5c0dfa79-5dd6-4681-a7a8-162bb4a9eb0a"
      },
      "execution_count": 30,
      "outputs": [
        {
          "output_type": "execute_result",
          "data": {
            "text/plain": [
              "'130.47m2'"
            ],
            "application/vnd.google.colaboratory.intrinsic+json": {
              "type": "string"
            }
          },
          "metadata": {},
          "execution_count": 30
        }
      ]
    },
    {
      "cell_type": "code",
      "source": [],
      "metadata": {
        "id": "savNIXfMMfGW"
      },
      "execution_count": null,
      "outputs": []
    }
  ]
}